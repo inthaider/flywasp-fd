{
 "cells": [
  {
   "cell_type": "markdown",
   "metadata": {},
   "source": [
    "# RNN Exploration & Analysis\n",
    "**Author: Jibran**<br>\n",
    "**Date: 2023-11-01**"
   ]
  },
  {
   "cell_type": "markdown",
   "metadata": {},
   "source": [
    "## Imports & Setup"
   ]
  },
  {
   "cell_type": "code",
   "execution_count": 3,
   "metadata": {},
   "outputs": [
    {
     "name": "stderr",
     "output_type": "stream",
     "text": [
      "2023-11-15 23:36:45.875924: I tensorflow/core/platform/cpu_feature_guard.cc:182] This TensorFlow binary is optimized to use available CPU instructions in performance-critical operations.\n",
      "To enable the following instructions: AVX2 FMA, in other operations, rebuild TensorFlow with the appropriate compiler flags.\n"
     ]
    }
   ],
   "source": [
    "import logging\n",
    "from pathlib import Path\n",
    "\n",
    "import numpy as np\n",
    "import torch\n",
    "import yaml\n",
    "\n",
    "import config as cpy\n",
    "from src.data_preprocess.data_loader import DataLoader\n",
    "from src.data_preprocess.data_saver import DataSaver\n",
    "from src.data_preprocess.preprocessing import DataPreprocessor\n",
    "from src.data_preprocess.rnn_data_prep import RNNDataPrep\n",
    "from src.models import rnn_model\n",
    "from src.models.train_eval import train_eval_model\n",
    "from src.utils.utilities import create_config_dict\n",
    "from src.visualization.rnn_visualize import plot_predicted_probabilities\n"
   ]
  },
  {
   "cell_type": "markdown",
   "metadata": {},
   "source": [
    "### Set up logging"
   ]
  },
  {
   "cell_type": "code",
   "execution_count": 4,
   "metadata": {},
   "outputs": [],
   "source": [
    "\"\"\"\n",
    "The logging level can be set to one of the following:\n",
    "DEBUG - Detailed information, typically of interest only when diagnosing problems.\n",
    "INFO - Confirmation that things are working as expected.\n",
    "WARNING - An indication that something unexpected happened, or indicative of some problem in the near future\n",
    "(e.g. ‘disk space low’). The software is still working as expected.\n",
    "ERROR - Due to a more serious problem, the software has not been able to perform some function.\n",
    "CRITICAL - A serious error, indicating that the program itself may be unable to continue running.\n",
    "\"\"\"\n",
    "logging.basicConfig(\n",
    "    level=logging.DEBUG, format=\"%(name)s - %(levelname)s - %(message)s\\n\"\n",
    ")\n"
   ]
  },
  {
   "cell_type": "markdown",
   "metadata": {},
   "source": [
    "## Process Data and/or Get Train/Test Splits"
   ]
  },
  {
   "cell_type": "markdown",
   "metadata": {},
   "source": [
    "### Get/set relevant configuration stuff"
   ]
  },
  {
   "cell_type": "code",
   "execution_count": 5,
   "metadata": {},
   "outputs": [
    {
     "name": "stdout",
     "output_type": "stream",
     "text": [
      "Using processed data file:  /Users/JawanHaider/Documents/Projects/Collaborative/Dogar/flywasp-fd/data/processed/ff-mw/20231115_processed_data_0ead4953ec32fad25a38982f3e492f1b.pkl\n",
      "Using train/test data file:  /Users/JawanHaider/Documents/Projects/Collaborative/Dogar/flywasp-fd/data/rnn_input/20231115\n"
     ]
    }
   ],
   "source": [
    "# ******************************************************************** #\n",
    "#             GET POTENTIALLY RELEVANT PATHS FROM CONFIG.PY            #\n",
    "# ******************************************************************** #\n",
    "(\n",
    "    PROJECT_ROOT,\n",
    "    ff_mw_raw_data,\n",
    "    processed_data_dir,\n",
    "    rnn_input_data_dir,\n",
    "    models_dir,\n",
    "    configs_dir,\n",
    "    logs_dir,\n",
    ") = (\n",
    "    cpy.PROJECT_ROOT,\n",
    "    cpy.FF_MW_DATA_FILE,\n",
    "    cpy.PROCESSED_DATA_DIR,\n",
    "    cpy.RNN_INPUT_DATA_DIR,\n",
    "    cpy.MODELS_DIR,\n",
    "    cpy.CONFIGS_DIR,\n",
    "    cpy.LOGS_DIR,\n",
    ")\n",
    "\n",
    "# ******************************************************************** #\n",
    "#                     LOAD YAML CONFIGURATION FILE                     #\n",
    "# ******************************************************************** #\n",
    "yaml_path = Path(PROJECT_ROOT, \"config.yaml\")\n",
    "with open(yaml_path, \"r\") as file:\n",
    "    config = yaml.safe_load(file)\n",
    "\n",
    "# ******************************************************************** #\n",
    "#                   DETERMINE LOADING/SAVING OPTIONS                   #\n",
    "# ******************************************************************** #\n",
    "is_save_processed = True  # Save processed data to file\n",
    "is_save_train_test = True  # Save train/test data to file\n",
    "is_save_model_and_config = False  # Save model and config to file\n",
    "# -------------------------------------------------------------------- #\n",
    "# If there is already a saved processed data file path in the config,\n",
    "# use it\n",
    "processed_data_file = config[\"data_file_paths\"][\"processed\"]\n",
    "if processed_data_file:\n",
    "    use_processed_data = True\n",
    "    print(\"Using processed data file: \", processed_data_file)\n",
    "else:\n",
    "    use_processed_data = False\n",
    "# -------------------------------------------------------------------- #\n",
    "train_test_data_dir = config[\"data_file_paths\"][\"rnn_input_dir\"]\n",
    "if train_test_data_dir:\n",
    "    is_load_train_test_data = True\n",
    "    print(\"Using train/test data file: \", train_test_data_dir)\n",
    "else:\n",
    "    is_load_train_test_data = False\n",
    "# -------------------------------------------------------------------- #\n",
    "model_file = config[\"data_file_paths\"][\"model\"]\n",
    "model_config_file = config[\"data_file_paths\"][\"model_config\"]\n",
    "if model_file and model_config_file:\n",
    "    is_load_model_and_config = True\n",
    "    print(\"Using model file: \", model_file)\n",
    "    print(\"Using model config file: \", model_config_file)\n",
    "else:\n",
    "    is_load_model_and_config = False\n",
    "is_load_model_and_config = False  # TODO: Remove this line\n",
    "# -------------------------------------------------------------------- #\n",
    "data_saver = DataSaver()  # Initialize DataSaver object\n",
    "# -------------------------------------------------------------------- #\n",
    "\n",
    "# ******************************************************************** #\n",
    "#                           DEFINE PARAMETERS                          #\n",
    "# ******************************************************************** #\n",
    "seq_len = 5\n"
   ]
  },
  {
   "cell_type": "markdown",
   "metadata": {},
   "source": [
    "### Get preprocessed data"
   ]
  },
  {
   "cell_type": "code",
   "execution_count": 6,
   "metadata": {},
   "outputs": [
    {
     "name": "stderr",
     "output_type": "stream",
     "text": [
      "src.data_preprocess.preprocessing - INFO - Setting the data source for DataPreprocessor...\n",
      "\n",
      "\n",
      "src.data_preprocess.data_loader - DEBUG - Loading processed data from /Users/JawanHaider/Documents/Projects/Collaborative/Dogar/flywasp-fd/data/processed/ff-mw/20231115_processed_data_0ead4953ec32fad25a38982f3e492f1b.pkl...\n",
      "\n",
      "\n"
     ]
    },
    {
     "name": "stdout",
     "output_type": "stream",
     "text": [
      "Using processed data\n",
      "\n",
      "\n"
     ]
    },
    {
     "name": "stderr",
     "output_type": "stream",
     "text": [
      "src.data_preprocess.data_loader - DEBUG - Successfully loaded processed data from /Users/JawanHaider/Documents/Projects/Collaborative/Dogar/flywasp-fd/data/processed/ff-mw/20231115_processed_data_0ead4953ec32fad25a38982f3e492f1b.pkl.\n",
      "\n",
      "\n",
      "src.data_preprocess.preprocessing - INFO - Processed DataFrame loaded from file as data_source.\n",
      "Use get_processed_data() to retrieve the loaded processed DataFrame.\n",
      "\n",
      "\n",
      "src.data_preprocess.preprocessing - INFO - Returning processed DataFrame.\n",
      "\n",
      "\n"
     ]
    }
   ],
   "source": [
    "# Set data source as raw or processed\n",
    "data_source_type = \"processed\" if use_processed_data else \"raw\"\n",
    "print(f\"Using {data_source_type} data\\n\\n\")\n",
    "data_source_path = (\n",
    "    processed_data_file if use_processed_data else ff_mw_raw_data\n",
    ")\n",
    "\n",
    "preprocessor = DataPreprocessor().set_data_source(\n",
    "    data_source_type, data_source_path\n",
    ")\n",
    "df = preprocessor.get_preprocessed_data()\n",
    "\n",
    "# ======================= Optionally save data ======================= #\n",
    "# Optionally save data\n",
    "if is_save_processed and not use_processed_data:\n",
    "    print(\"\\nSaving processed data to file...\\n\")\n",
    "    processed_data_file = data_saver.save_processed_data(df)\n",
    "    # Update the config file with the new processed data file path\n",
    "    config[\"data_file_paths\"][\"processed\"] = str(processed_data_file)\n",
    "    with open(yaml_path, \"w\") as file:\n",
    "        yaml.dump(config, file)\n"
   ]
  },
  {
   "cell_type": "markdown",
   "metadata": {},
   "source": [
    "### Get train/test data splits for RNN "
   ]
  },
  {
   "cell_type": "code",
   "execution_count": 7,
   "metadata": {},
   "outputs": [
    {
     "name": "stderr",
     "output_type": "stream",
     "text": [
      "src.data_preprocess.rnn_data_prep - INFO - Setting the data source for RNNDataPrep...\n",
      "\n",
      "\n",
      "src.data_preprocess.data_loader - INFO - Loading train/test datasets from /Users/JawanHaider/Documents/Projects/Collaborative/Dogar/flywasp-fd/data/rnn_input/20231115...\n",
      "\n",
      "\n"
     ]
    },
    {
     "name": "stdout",
     "output_type": "stream",
     "text": [
      "Using file data\n",
      "\n",
      "\n"
     ]
    },
    {
     "name": "stderr",
     "output_type": "stream",
     "text": [
      "src.data_preprocess.data_loader - INFO - Successfully loaded train/test + indices from /Users/JawanHaider/Documents/Projects/Collaborative/Dogar/flywasp-fd/data/rnn_input/20231115.\n",
      "\n",
      "\n",
      "src.data_preprocess.rnn_data_prep - INFO - Train/test loaded from file as data_source.\n",
      "Use get_rnn_data() without params to retrieve train/test splits.\n",
      "\n",
      "\n",
      "src.data_preprocess.rnn_data_prep - INFO - Getting train-test data splits...\n",
      "\n",
      "\n"
     ]
    }
   ],
   "source": [
    "# Set data source as raw or processed\n",
    "df_processed = df if not is_load_train_test_data else None\n",
    "train_test_path = train_test_data_dir if is_load_train_test_data else None\n",
    "data_source_type = \"df\" if df_processed is not None else \"file\"\n",
    "print(f\"Using {data_source_type} data\\n\\n\")\n",
    "\n",
    "rnn_data_preparer = RNNDataPrep().set_data_source(\n",
    "    df_processed,\n",
    "    train_test_path,\n",
    ")\n",
    "train_test_dict, test_indices = rnn_data_preparer.get_rnn_data(seq_len)\n",
    "X_train, Y_train, X_test, Y_test = (\n",
    "    train_test_dict[\"X_train\"],\n",
    "    train_test_dict[\"Y_train\"],\n",
    "    train_test_dict[\"X_test\"],\n",
    "    train_test_dict[\"Y_test\"],\n",
    ")\n",
    "# ======================= Optionally save data ======================= #\n",
    "# Optionally save data\n",
    "if is_save_train_test and not is_load_train_test_data:\n",
    "    print(\"\\nSaving train/test data to file...\\n\")\n",
    "    train_test_data_dir = data_saver.save_train_test_data(\n",
    "        X_train, Y_train, X_test, Y_test, test_indices\n",
    "    )\n",
    "    # Update the config file with the new train/test data file path\n",
    "    config[\"data_file_paths\"][\"rnn_input_dir\"] = str(train_test_data_dir)\n",
    "    with open(yaml_path, \"w\") as file:\n",
    "        yaml.dump(config, file)\n"
   ]
  },
  {
   "cell_type": "markdown",
   "metadata": {},
   "source": [
    "## Running some checks..."
   ]
  },
  {
   "cell_type": "code",
   "execution_count": 8,
   "metadata": {},
   "outputs": [
    {
     "name": "stdout",
     "output_type": "stream",
     "text": [
      "X_train shape:  (6527546, 5, 19)\n",
      "Y_train shape:  (6527546,)\n",
      "X_test shape:  (3263774, 5, 19)\n",
      "Y_test shape:  (3263774,)\n"
     ]
    }
   ],
   "source": [
    "# Print shapes\n",
    "print(\"X_train shape: \", X_train.shape)\n",
    "print(\"Y_train shape: \", Y_train.shape)\n",
    "print(\"X_test shape: \", X_test.shape)\n",
    "print(\"Y_test shape: \", Y_test.shape)\n"
   ]
  },
  {
   "cell_type": "markdown",
   "metadata": {},
   "source": [
    "### Check data imbalance"
   ]
  },
  {
   "cell_type": "code",
   "execution_count": 9,
   "metadata": {},
   "outputs": [
    {
     "name": "stderr",
     "output_type": "stream",
     "text": [
      "root - INFO - Checking for data imbalance...\n",
      "\n",
      "root - INFO - Y_train: (array([0., 1.]), array([6523639,    3907]))\n",
      "\n",
      "root - INFO - Y_test: (array([0., 1.]), array([3262149,    1625]))\n",
      "\n"
     ]
    }
   ],
   "source": [
    "# Check for data imbalance in Y_train and Y_test\n",
    "# Note that the single feature in Y data is a binary classification\n",
    "# 0: no walk\n",
    "# 1: walk\n",
    "logging.info(\"Checking for data imbalance...\")\n",
    "logging.info(f\"Y_train: {np.unique(Y_train, return_counts=True)}\")\n",
    "logging.info(f\"Y_test: {np.unique(Y_test, return_counts=True)}\")\n"
   ]
  },
  {
   "cell_type": "markdown",
   "metadata": {},
   "source": [
    "### Check for invalid values (NaN's and Inf's)"
   ]
  },
  {
   "cell_type": "code",
   "execution_count": 10,
   "metadata": {},
   "outputs": [],
   "source": [
    "# num_nan_values_X_train = np.isnan(X_train).sum()\n",
    "# num_nan_values_X_test = np.isnan(X_test).sum()\n",
    "# num_nan_values_Y_train = np.isnan(Y_train).sum()\n",
    "# num_nan_values_Y_test = np.isnan(Y_test).sum()\n",
    "# print(f\"Number of NaN values in train X set: {num_nan_values_X_train}\")\n",
    "# print(f\"Number of NaN values in test X set: {num_nan_values_X_test}\")\n",
    "# print(f\"Number of NaN values in train Y set: {num_nan_values_Y_train}\")\n",
    "# print(f\"Number of NaN values in test Y set: {num_nan_values_Y_test}\\n\")\n",
    "\n",
    "# num_inf_values_X_train = np.isinf(X_train).sum()\n",
    "# num_inf_values_X_test = np.isinf(X_test).sum()\n",
    "# num_inf_values_Y_train = np.isinf(Y_train).sum()\n",
    "# num_inf_values_Y_test = np.isinf(Y_test).sum()\n",
    "# print(f\"Number of inf values in train X set: {num_inf_values_X_train}\")\n",
    "# print(f\"Number of inf values in test X set: {num_inf_values_X_test}\")\n",
    "# print(f\"Number of inf values in train Y set: {num_inf_values_Y_train}\")\n",
    "# print(f\"Number of inf values in test Y set: {num_inf_values_Y_test}\")\n"
   ]
  },
  {
   "cell_type": "markdown",
   "metadata": {},
   "source": [
    "#### Replace NaN's and Inf's with 0"
   ]
  },
  {
   "cell_type": "code",
   "execution_count": 11,
   "metadata": {},
   "outputs": [],
   "source": [
    "# X_train[np.isnan(X_train)] = 0\n",
    "# X_test[np.isnan(X_test)] = 0\n",
    "# Y_train[np.isnan(Y_train)] = 0\n",
    "# Y_test[np.isnan(Y_test)] = 0\n",
    "\n",
    "# X_train[np.isinf(X_train)] = 0\n",
    "# X_test[np.isinf(X_test)] = 0\n",
    "# Y_train[np.isinf(Y_train)] = 0\n",
    "# Y_test[np.isinf(Y_test)] = 0\n",
    "\n",
    "# # handle_inf_na(X_train, X_test)\n"
   ]
  },
  {
   "cell_type": "markdown",
   "metadata": {},
   "source": [
    "## RNN Model"
   ]
  },
  {
   "cell_type": "markdown",
   "metadata": {},
   "source": [
    "### Train model"
   ]
  },
  {
   "cell_type": "code",
   "execution_count": 12,
   "metadata": {},
   "outputs": [
    {
     "name": "stdout",
     "output_type": "stream",
     "text": [
      "(5, 19)\n"
     ]
    }
   ],
   "source": [
    "print(X_train.shape[1:])\n"
   ]
  },
  {
   "cell_type": "code",
   "execution_count": 13,
   "metadata": {},
   "outputs": [
    {
     "name": "stdout",
     "output_type": "stream",
     "text": [
      "Training RNN Model (mps)...\n",
      "==============================\n",
      "\n",
      "\n",
      "\n",
      "mps\n",
      "Using kwargs for data loaders\n",
      "\n",
      "\n"
     ]
    },
    {
     "name": "stderr",
     "output_type": "stream",
     "text": [
      "src.models.train_eval - INFO - \n",
      "\n",
      "Model Summary:\n",
      "\n"
     ]
    },
    {
     "name": "stdout",
     "output_type": "stream",
     "text": [
      "==========================================================================================\n",
      "Layer (type:depth-idx)                   Output Shape              Param #\n",
      "==========================================================================================\n",
      "RNN                                      [5120, 2]                 --\n",
      "├─RNN: 1-1                               [5120, 5, 32]             1,696\n",
      "├─Linear: 1-2                            [5120, 2]                 66\n",
      "├─Sigmoid: 1-3                           [5120, 2]                 --\n",
      "==========================================================================================\n",
      "Total params: 1,762\n",
      "Trainable params: 1,762\n",
      "Non-trainable params: 0\n",
      "Total mult-adds (Units.MEGABYTES): 43.76\n",
      "==========================================================================================\n",
      "Input size (MB): 1.95\n",
      "Forward/backward pass size (MB): 6.64\n",
      "Params size (MB): 0.01\n",
      "Estimated Total Size (MB): 8.59\n",
      "==========================================================================================\n"
     ]
    },
    {
     "data": {
      "application/vnd.jupyter.widget-view+json": {
       "model_id": "18a9858bfb9c4a4c82f88f14712241f6",
       "version_major": 2,
       "version_minor": 0
      },
      "text/plain": [
       "Epochs:   0%|          | 0/10 [00:00<?, ?it/s]"
      ]
     },
     "metadata": {},
     "output_type": "display_data"
    },
    {
     "name": "stderr",
     "output_type": "stream",
     "text": [
      "src.models.train_eval - INFO - Number of batches: 1275\n",
      "\n",
      "src.models.train_eval - INFO - Batch size: 5120\n",
      "\n",
      "\n"
     ]
    },
    {
     "name": "stdout",
     "output_type": "stream",
     "text": [
      "Epoch 1/10\n",
      "-------------------------------\n",
      "Training the model...\n"
     ]
    },
    {
     "data": {
      "application/vnd.jupyter.widget-view+json": {
       "model_id": "40a1920c5dab4c04bd32679239959cb1",
       "version_major": 2,
       "version_minor": 0
      },
      "text/plain": [
       "Training...:   0%|          | 0/1275 [00:00<?, ?it/s]"
      ]
     },
     "metadata": {},
     "output_type": "display_data"
    },
    {
     "name": "stdout",
     "output_type": "stream",
     "text": [
      "Loss: 0.559216  [ 5120/6527546]\n",
      "Loss: 0.520034  [655360/6527546]\n",
      "Loss: 0.513737  [1305600/6527546]\n",
      "Loss: 0.505976  [1955840/6527546]\n",
      "Loss: 0.372829  [2606080/6527546]\n",
      "Loss: 0.344420  [3256320/6527546]\n",
      "Loss: 0.334151  [3906560/6527546]\n",
      "Loss: 0.328972  [4556800/6527546]\n",
      "Loss: 0.325858  [5207040/6527546]\n",
      "Loss: 0.323779  [5857280/6527546]\n",
      "Loss: 0.322290  [6507520/6527546]\n"
     ]
    },
    {
     "name": "stderr",
     "output_type": "stream",
     "text": [
      "src.models.train_eval - INFO - \n",
      "Sum squared grads/params in Epoch 1:\n",
      "\tSum of squared gradients :     120.7810\n",
      "\tSum of squared parameters:   29796.2839\n",
      "\n",
      "src.models.train_eval - INFO - \n",
      "Train Performance: \n",
      " Accuracy: 74.9%,Avg loss: 0.411066, F1 Score: 0.0048 \n",
      "\n",
      "\n",
      "src.models.train_eval - INFO - Training Epoch 1 took 2.0 minutes.\n",
      "\n"
     ]
    },
    {
     "name": "stdout",
     "output_type": "stream",
     "text": [
      "Evaluating the model...\n"
     ]
    },
    {
     "data": {
      "application/vnd.jupyter.widget-view+json": {
       "model_id": "d4c1661c85584438a099b31d62332e03",
       "version_major": 2,
       "version_minor": 0
      },
      "text/plain": [
       "Testing...:   0%|          | 0/638 [00:00<?, ?it/s]"
      ]
     },
     "metadata": {},
     "output_type": "display_data"
    },
    {
     "name": "stderr",
     "output_type": "stream",
     "text": [
      "src.models.train_eval - INFO - Test Performance: \n",
      " Accuracy: 74.9%,Avg loss: 0.390391, F1 Score: 0.4303 \n",
      "\n",
      "\n",
      "src.models.train_eval - INFO - Evaluating Epoch 1 took 0.6 minutes.\n",
      "\n",
      "src.models.train_eval - INFO - Training Data Distribution:\n",
      "\n",
      "src.models.train_eval - INFO - {0.0: 3262149, 1.0: 1625}\n",
      "\n",
      "src.models.train_eval - INFO - Predicted Data Distribution:\n",
      "\n",
      "src.models.train_eval - INFO - {0.0: 2444041, 1.0: 819733}\n",
      "\n",
      "src.models.train_eval - INFO - Epoch 1 Metrics --\n",
      "Train Loss: 0.4111,\n",
      "Test Loss: 0.3904,\n",
      "Train Acc: 74.9%,\n",
      "Test Acc: 74.9%,\n",
      "Train F1 Score: 0.0048,\n",
      "Test F1: 0.4303,\n",
      "Test PR AUC: 0.0054\n",
      "\n",
      "\n",
      "\n",
      "src.models.train_eval - INFO - Number of batches: 1275\n",
      "\n",
      "src.models.train_eval - INFO - Batch size: 5120\n",
      "\n",
      "\n"
     ]
    },
    {
     "name": "stdout",
     "output_type": "stream",
     "text": [
      "Epoch 2/10\n",
      "-------------------------------\n",
      "Training the model...\n"
     ]
    },
    {
     "data": {
      "application/vnd.jupyter.widget-view+json": {
       "model_id": "cbec5f1f4dd3498e8ae3bcd4ad969be8",
       "version_major": 2,
       "version_minor": 0
      },
      "text/plain": [
       "Training...:   0%|          | 0/1275 [00:00<?, ?it/s]"
      ]
     },
     "metadata": {},
     "output_type": "display_data"
    },
    {
     "name": "stdout",
     "output_type": "stream",
     "text": [
      "Loss: 0.503337  [ 5120/6527546]\n",
      "Loss: 0.505569  [655360/6527546]\n",
      "Loss: 0.505722  [1305600/6527546]\n",
      "Loss: 0.322088  [1955840/6527546]\n",
      "Loss: 0.321017  [2606080/6527546]\n",
      "Loss: 0.320177  [3256320/6527546]\n",
      "Loss: 0.319501  [3906560/6527546]\n",
      "Loss: 0.318945  [4556800/6527546]\n",
      "Loss: 0.318480  [5207040/6527546]\n",
      "Loss: 0.318084  [5857280/6527546]\n",
      "Loss: 0.317744  [6507520/6527546]\n"
     ]
    },
    {
     "name": "stderr",
     "output_type": "stream",
     "text": [
      "src.models.train_eval - INFO - \n",
      "Sum squared grads/params in Epoch 2:\n",
      "\tSum of squared gradients :      29.2833\n",
      "\tSum of squared parameters:   32296.0430\n",
      "\n",
      "src.models.train_eval - INFO - \n",
      "Train Performance: \n",
      " Accuracy: 74.9%,Avg loss: 0.377916, F1 Score: 0.0048 \n",
      "\n",
      "\n",
      "src.models.train_eval - INFO - Training Epoch 2 took 2.2 minutes.\n",
      "\n"
     ]
    },
    {
     "name": "stdout",
     "output_type": "stream",
     "text": [
      "Evaluating the model...\n"
     ]
    },
    {
     "data": {
      "application/vnd.jupyter.widget-view+json": {
       "model_id": "e8b5da15701e4f3b91bfa67886d0701a",
       "version_major": 2,
       "version_minor": 0
      },
      "text/plain": [
       "Testing...:   0%|          | 0/638 [00:00<?, ?it/s]"
      ]
     },
     "metadata": {},
     "output_type": "display_data"
    },
    {
     "name": "stderr",
     "output_type": "stream",
     "text": [
      "src.models.train_eval - INFO - Test Performance: \n",
      " Accuracy: 74.9%,Avg loss: 0.386095, F1 Score: 0.4303 \n",
      "\n",
      "\n",
      "src.models.train_eval - INFO - Evaluating Epoch 2 took 0.7 minutes.\n",
      "\n",
      "src.models.train_eval - INFO - Training Data Distribution:\n",
      "\n",
      "src.models.train_eval - INFO - {0.0: 3262149, 1.0: 1625}\n",
      "\n",
      "src.models.train_eval - INFO - Predicted Data Distribution:\n",
      "\n",
      "src.models.train_eval - INFO - {0.0: 2444017, 1.0: 819757}\n",
      "\n",
      "src.models.train_eval - INFO - Epoch 2 Metrics --\n",
      "Train Loss: 0.3779,\n",
      "Test Loss: 0.3861,\n",
      "Train Acc: 74.9%,\n",
      "Test Acc: 74.9%,\n",
      "Train F1 Score: 0.0048,\n",
      "Test F1: 0.4303,\n",
      "Test PR AUC: 0.0064\n",
      "\n",
      "\n",
      "\n",
      "src.models.train_eval - INFO - Number of batches: 1275\n",
      "\n",
      "src.models.train_eval - INFO - Batch size: 5120\n",
      "\n",
      "\n"
     ]
    },
    {
     "name": "stdout",
     "output_type": "stream",
     "text": [
      "Epoch 3/10\n",
      "-------------------------------\n",
      "Training the model...\n"
     ]
    },
    {
     "data": {
      "application/vnd.jupyter.widget-view+json": {
       "model_id": "077bdcc9124f4e86bf4a07f4f4e54ffa",
       "version_major": 2,
       "version_minor": 0
      },
      "text/plain": [
       "Training...:   0%|          | 0/1275 [00:00<?, ?it/s]"
      ]
     },
     "metadata": {},
     "output_type": "display_data"
    },
    {
     "name": "stdout",
     "output_type": "stream",
     "text": [
      "Loss: 0.498656  [ 5120/6527546]\n",
      "Loss: 0.506754  [655360/6527546]\n",
      "Loss: 0.504570  [1305600/6527546]\n",
      "Loss: 0.317959  [1955840/6527546]\n",
      "Loss: 0.317630  [2606080/6527546]\n",
      "Loss: 0.317344  [3256320/6527546]\n",
      "Loss: 0.317094  [3906560/6527546]\n",
      "Loss: 0.316872  [4556800/6527546]\n",
      "Loss: 0.316675  [5207040/6527546]\n"
     ]
    }
   ],
   "source": [
    "# ======================== Train the RNN model ======================= #\n",
    "# device = torch.device(\"mps\" if torch.backends.mps.is_available() else \"cpu\")\n",
    "# device = torch.device(\"cpu\")\n",
    "device = torch.device(\"mps\")\n",
    "batch_size = (512 * 10) if device == torch.device(\"mps\") else 512\n",
    "num_epochs = 10\n",
    "hidden_size = 32\n",
    "output_size = 2\n",
    "learning_rate = 0.01\n",
    "batch_first = True\n",
    "input_size = X_train.shape[2]\n",
    "kwargs = {\"num_workers\": 2, \"pin_memory\": True}  # For GPU training\n",
    "print(f\"Training RNN Model ({device})...\\n==============================\\n\")\n",
    "model, test_labels_and_probs = train_eval_model(\n",
    "    X_train,\n",
    "    Y_train,\n",
    "    X_test,\n",
    "    Y_test,\n",
    "    input_size,\n",
    "    hidden_size,\n",
    "    output_size,\n",
    "    num_epochs,\n",
    "    batch_size,\n",
    "    learning_rate,\n",
    "    device,\n",
    "    batch_first=batch_first,\n",
    "    **kwargs,\n",
    ")\n"
   ]
  },
  {
   "cell_type": "markdown",
   "metadata": {},
   "source": [
    "### Model Evaluation, Visualization, and Analysis"
   ]
  },
  {
   "cell_type": "code",
   "execution_count": null,
   "metadata": {},
   "outputs": [],
   "source": [
    "test_indices = rnn_data_preparer.test_indices\n",
    "# print(test_indices)\n",
    "print(f\"Test indices shape: {test_indices.shape}\")\n"
   ]
  },
  {
   "cell_type": "code",
   "execution_count": null,
   "metadata": {},
   "outputs": [],
   "source": [
    "print(\n",
    "    f\"test_true_labels shape: {test_labels_and_probs[0].shape}, \\ntest_pred_labels shape: {test_labels_and_probs[1].shape}, \\ntest_pred_probs shape: {test_labels_and_probs[2].shape}\\n\"\n",
    ")\n",
    "print(f\"df shape: {df.shape}\")\n"
   ]
  },
  {
   "cell_type": "code",
   "execution_count": null,
   "metadata": {},
   "outputs": [],
   "source": [
    "plot_df, mean_df = plot_predicted_probabilities(\n",
    "    df, test_indices, test_labels_and_probs\n",
    ")\n"
   ]
  },
  {
   "cell_type": "markdown",
   "metadata": {},
   "source": [
    "### Save model and config"
   ]
  },
  {
   "cell_type": "code",
   "execution_count": null,
   "metadata": {},
   "outputs": [],
   "source": [
    "# Create the model name\n",
    "model_architecture = \"rnn\"\n",
    "# get the raw data id, in this case 'ff-mw'\n",
    "raw_data_id = preprocessor.raw_data_id\n",
    "version_number = 1\n",
    "model_name = f\"{model_architecture}_{raw_data_id}_v{version_number}\"\n",
    "\n",
    "# Define/get config details\n",
    "rnn_timestamp = model.timestamp\n",
    "\n",
    "# Create the configuration dictionary\n",
    "model_config = create_config_dict(\n",
    "    model_name=f\"{rnn_timestamp}_{model_name}\",\n",
    "    input_size=input_size,\n",
    "    hidden_size=hidden_size,\n",
    "    output_size=output_size,\n",
    "    num_epochs=num_epochs,\n",
    "    batch_size=batch_size,\n",
    "    learning_rate=learning_rate,\n",
    "    raw_data_path=ff_mw_raw_data,\n",
    "    processed_data_path=processed_data_file,\n",
    "    logging_level=\"DEBUG\",\n",
    "    logging_format=\"%(asctime)s - %(levelname)s - %(module)s - %(message)s\",\n",
    ")\n",
    "\n",
    "# Save the trained model and configuration settings\n",
    "model_dir = Path(f\"models/{model_name}\")\n",
    "model_dir.mkdir(parents=True, exist_ok=True)\n",
    "config_dir = Path(f\"config/{model_name}\")\n",
    "config_dir.mkdir(parents=True, exist_ok=True)\n",
    "saved_model_file, saved_config_file = data_saver.save_model_and_config(\n",
    "    model,\n",
    "    model_name,\n",
    "    model_config,\n",
    "    model_dir,\n",
    "    config_dir,\n",
    ")\n"
   ]
  },
  {
   "cell_type": "markdown",
   "metadata": {},
   "source": [
    "## Old/Extra/Misc. Code Below"
   ]
  },
  {
   "cell_type": "code",
   "execution_count": null,
   "metadata": {},
   "outputs": [],
   "source": [
    "# from sklearn.metrics import f1_score\n",
    "# from torch.utils.data import DataLoader, Dataset\n",
    "# import torch.nn as nn\n",
    "# # Initialize a new model\n",
    "# input_size = X_test.shape[2]  # Make sure this is correct\n",
    "# hidden_size = 64\n",
    "# output_size = 2\n",
    "# device = torch.device('cuda' if torch.cuda.is_available() else 'cpu')\n",
    "\n",
    "# new_model = rnn_model.RNN(input_size=input_size, hidden_size=hidden_size, output_size=output_size, batch_first=True).to(device)\n",
    "\n",
    "# # Load the model\n",
    "# model_path = \"models/rnn_ff-mw_v1/20231020_1701_model_2c92c2793be07eaf3765665d6287ded4_971fce5d8c82c2d1bf8db68939c8162d.pt\"\n",
    "# state_dict = torch.load(model_path)\n",
    "# new_model.load_state_dict(state_dict)\n",
    "# # loaded_model = torch.load(model_path)\n",
    "# new_model.eval()  # Set the model to evaluation mode\n",
    "\n",
    "# def evaluate_f1(model, X_test, Y_test, batch_size, device):\n",
    "#     test_dataset = rnn_model.WalkDataset(X_test, Y_test)\n",
    "#     test_loader = DataLoader(test_dataset, batch_size=batch_size, shuffle=False)\n",
    "#     model.eval()\n",
    "\n",
    "#     # Initialize running loss & sum of squared gradients and parameters\n",
    "#     running_loss = 0.0\n",
    "#     correct = 0\n",
    "#     total = 0\n",
    "\n",
    "#     y_true = []\n",
    "#     y_pred = []\n",
    "\n",
    "#     with torch.no_grad():\n",
    "#         for i, (inputs, labels) in enumerate(test_loader):\n",
    "#             inputs, labels = inputs.to(device), labels.to(device)\n",
    "#             outputs = model(inputs)\n",
    "#             # Using CrossEntropyLoss as the loss function\n",
    "#             criterion = nn.CrossEntropyLoss()\n",
    "#             loss = criterion(outputs, labels)  # Compute loss\n",
    "#             running_loss += loss.item()  # Accumulate loss\n",
    "#             _, predicted = torch.max(outputs.data, 1)\n",
    "#             total += labels.size(0)  # Accumulate total number of samples\n",
    "#             correct += (predicted == labels).sum().item()\n",
    "#             y_true.extend(labels.cpu().numpy().tolist())\n",
    "#             y_pred.extend(predicted.cpu().numpy().tolist())\n",
    "\n",
    "#     # Calculate average loss and accuracy over all batches\n",
    "#     test_loss = running_loss / len(test_loader)\n",
    "#     test_acc = correct / total\n",
    "\n",
    "#     print(\n",
    "#         f\"Test Error: \\n Accuracy: {(100*test_acc):>0.1f}%, Avg loss: {test_loss:>8f} \\n\")\n",
    "\n",
    "#     f1 = f1_score(y_true, y_pred)  # You can change the \"average\" parameter to suit your needs\n",
    "\n",
    "#     return f1\n",
    "\n",
    "# # Make sure you load your saved model into the variable `loaded_model`\n",
    "# # Also, ensure X_test, Y_test, batch_size and device are set\n",
    "\n",
    "# f1 = evaluate_f1(new_model, X_test, Y_test, batch_size, device)\n",
    "# print(f\"F1 Score: {f1}\")\n"
   ]
  },
  {
   "cell_type": "code",
   "execution_count": null,
   "metadata": {},
   "outputs": [],
   "source": []
  }
 ],
 "metadata": {
  "kernelspec": {
   "display_name": "fd_flywasp",
   "language": "python",
   "name": "python3"
  },
  "language_info": {
   "codemirror_mode": {
    "name": "ipython",
    "version": 3
   },
   "file_extension": ".py",
   "mimetype": "text/x-python",
   "name": "python",
   "nbconvert_exporter": "python",
   "pygments_lexer": "ipython3",
   "version": "3.11.6"
  }
 },
 "nbformat": 4,
 "nbformat_minor": 2
}
