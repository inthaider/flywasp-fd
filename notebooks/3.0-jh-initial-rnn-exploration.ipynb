{
 "cells": [
  {
   "cell_type": "markdown",
   "metadata": {},
   "source": [
    "# RNN Exploration & Analysis\n",
    "**Author: Jibran**<br>\n",
    "**Date: 2023-11-01**"
   ]
  },
  {
   "cell_type": "markdown",
   "metadata": {},
   "source": [
    "## Imports & Setup"
   ]
  },
  {
   "cell_type": "code",
   "execution_count": 1,
   "metadata": {},
   "outputs": [
    {
     "name": "stderr",
     "output_type": "stream",
     "text": [
      "2023-11-20 17:51:19.451559: I tensorflow/core/platform/cpu_feature_guard.cc:182] This TensorFlow binary is optimized to use available CPU instructions in performance-critical operations.\n",
      "To enable the following instructions: AVX2 FMA, in other operations, rebuild TensorFlow with the appropriate compiler flags.\n"
     ]
    }
   ],
   "source": [
    "import logging\n",
    "from pathlib import Path\n",
    "\n",
    "import numpy as np\n",
    "import torch\n",
    "import yaml\n",
    "\n",
    "import config as cpy\n",
    "from src.data_preprocess.data_loader import DataLoader\n",
    "from src.data_preprocess.data_saver import DataSaver\n",
    "from src.data_preprocess.preprocessing import DataPreprocessor\n",
    "from src.data_preprocess.rnn_data_prep import RNNDataPrep\n",
    "from src.models import rnn_model\n",
    "from src.models.train_eval import train_eval\n",
    "from src.utils.utilities import create_config_dict\n",
    "from src.visualization.rnn_visualize import plot_predicted_probabilities\n"
   ]
  },
  {
   "cell_type": "markdown",
   "metadata": {},
   "source": [
    "### Set up logging"
   ]
  },
  {
   "cell_type": "code",
   "execution_count": null,
   "metadata": {},
   "outputs": [],
   "source": [
    "\"\"\"\n",
    "The logging level can be set to one of the following:\n",
    "DEBUG - Detailed information, typically of interest only when diagnosing problems.\n",
    "INFO - Confirmation that things are working as expected.\n",
    "WARNING - An indication that something unexpected happened, or indicative of some problem in the near future\n",
    "(e.g. ‘disk space low’). The software is still working as expected.\n",
    "ERROR - Due to a more serious problem, the software has not been able to perform some function.\n",
    "CRITICAL - A serious error, indicating that the program itself may be unable to continue running.\n",
    "\"\"\"\n",
    "logging.basicConfig(\n",
    "    level=logging.DEBUG, format=\"%(name)s - %(levelname)s - %(message)s\\n\"\n",
    ")\n"
   ]
  },
  {
   "cell_type": "markdown",
   "metadata": {},
   "source": [
    "## Process Data and/or Get Train/Test Splits"
   ]
  },
  {
   "cell_type": "markdown",
   "metadata": {},
   "source": [
    "### Get/set relevant configuration stuff"
   ]
  },
  {
   "cell_type": "code",
   "execution_count": null,
   "metadata": {},
   "outputs": [
    {
     "name": "stdout",
     "output_type": "stream",
     "text": [
      "Using processed data file:  /Users/JawanHaider/Documents/Projects/Collaborative/Dogar/flywasp-fd/data/processed/ff-mw/20231115_processed_data_0ead4953ec32fad25a38982f3e492f1b.pkl\n",
      "Using train/test data file:  /Users/JawanHaider/Documents/Projects/Collaborative/Dogar/flywasp-fd/data/rnn_input/20231115\n"
     ]
    }
   ],
   "source": [
    "# ******************************************************************** #\n",
    "#             GET POTENTIALLY RELEVANT PATHS FROM CONFIG.PY            #\n",
    "# ******************************************************************** #\n",
    "(\n",
    "    PROJECT_ROOT,\n",
    "    ff_mw_raw_data,\n",
    "    processed_data_dir,\n",
    "    rnn_input_data_dir,\n",
    "    models_dir,\n",
    "    configs_dir,\n",
    "    logs_dir,\n",
    ") = (\n",
    "    cpy.PROJECT_ROOT,\n",
    "    cpy.FF_MW_DATA_FILE,\n",
    "    cpy.PROCESSED_DATA_DIR,\n",
    "    cpy.RNN_INPUT_DATA_DIR,\n",
    "    cpy.MODELS_DIR,\n",
    "    cpy.CONFIGS_DIR,\n",
    "    cpy.LOGS_DIR,\n",
    ")\n",
    "\n",
    "# ******************************************************************** #\n",
    "#                     LOAD YAML CONFIGURATION FILE                     #\n",
    "# ******************************************************************** #\n",
    "yaml_path = Path(PROJECT_ROOT, \"config.yaml\")\n",
    "with open(yaml_path, \"r\") as file:\n",
    "    config = yaml.safe_load(file)\n",
    "\n",
    "# ******************************************************************** #\n",
    "#                   DETERMINE LOADING/SAVING OPTIONS                   #\n",
    "# ******************************************************************** #\n",
    "is_save_processed = True  # Save processed data to file\n",
    "is_save_train_test = True  # Save train/test data to file\n",
    "is_save_model_and_config = False  # Save model and config to file\n",
    "# -------------------------------------------------------------------- #\n",
    "# If there is already a saved processed data file path in the config,\n",
    "# use it\n",
    "processed_data_file = config[\"data_file_paths\"][\"processed\"]\n",
    "if processed_data_file:\n",
    "    use_processed_data = True\n",
    "    print(\"Using processed data file: \", processed_data_file)\n",
    "else:\n",
    "    use_processed_data = False\n",
    "# -------------------------------------------------------------------- #\n",
    "train_test_data_dir = config[\"data_file_paths\"][\"rnn_input_dir\"]\n",
    "if train_test_data_dir:\n",
    "    is_load_train_test_data = True\n",
    "    print(\"Using train/test data file: \", train_test_data_dir)\n",
    "else:\n",
    "    is_load_train_test_data = False\n",
    "# -------------------------------------------------------------------- #\n",
    "model_file = config[\"data_file_paths\"][\"model\"]\n",
    "model_config_file = config[\"data_file_paths\"][\"model_config\"]\n",
    "if model_file and model_config_file:\n",
    "    is_load_model_and_config = True\n",
    "    print(\"Using model file: \", model_file)\n",
    "    print(\"Using model config file: \", model_config_file)\n",
    "else:\n",
    "    is_load_model_and_config = False\n",
    "is_load_model_and_config = False  # TODO: Remove this line\n",
    "# -------------------------------------------------------------------- #\n",
    "data_saver = DataSaver()  # Initialize DataSaver object\n",
    "# -------------------------------------------------------------------- #\n",
    "\n",
    "# ******************************************************************** #\n",
    "#                           DEFINE PARAMETERS                          #\n",
    "# ******************************************************************** #\n",
    "seq_len = 5\n"
   ]
  },
  {
   "cell_type": "markdown",
   "metadata": {},
   "source": [
    "### Get preprocessed data"
   ]
  },
  {
   "cell_type": "code",
   "execution_count": 36,
   "metadata": {},
   "outputs": [
    {
     "name": "stderr",
     "output_type": "stream",
     "text": [
      "src.data_preprocess.preprocessing - INFO - Setting the data source for DataPreprocessor...\n",
      "\n",
      "\n",
      "src.data_preprocess.data_loader - DEBUG - Loading processed data from /Users/JawanHaider/Documents/Projects/Collaborative/Dogar/flywasp-fd/data/processed/ff-mw/20231115_processed_data_0ead4953ec32fad25a38982f3e492f1b.pkl...\n",
      "\n",
      "\n"
     ]
    },
    {
     "name": "stdout",
     "output_type": "stream",
     "text": [
      "Using processed data\n",
      "\n",
      "\n"
     ]
    },
    {
     "name": "stderr",
     "output_type": "stream",
     "text": [
      "src.data_preprocess.data_loader - DEBUG - Successfully loaded processed data from /Users/JawanHaider/Documents/Projects/Collaborative/Dogar/flywasp-fd/data/processed/ff-mw/20231115_processed_data_0ead4953ec32fad25a38982f3e492f1b.pkl.\n",
      "\n",
      "\n",
      "src.data_preprocess.preprocessing - INFO - Processed DataFrame loaded from file as data_source.\n",
      "Use get_processed_data() to retrieve the loaded processed DataFrame.\n",
      "\n",
      "\n",
      "src.data_preprocess.preprocessing - INFO - Returning processed DataFrame.\n",
      "\n",
      "\n"
     ]
    }
   ],
   "source": [
    "# Set data source as raw or processed\n",
    "data_source_type = \"processed\" if use_processed_data else \"raw\"\n",
    "print(f\"Using {data_source_type} data\\n\\n\")\n",
    "data_source_path = (\n",
    "    processed_data_file if use_processed_data else ff_mw_raw_data\n",
    ")\n",
    "\n",
    "preprocessor = DataPreprocessor().set_data_source(\n",
    "    data_source_type, data_source_path\n",
    ")\n",
    "df = preprocessor.get_preprocessed_data()\n",
    "\n",
    "# ======================= Optionally save data ======================= #\n",
    "# Optionally save data\n",
    "if is_save_processed and not use_processed_data:\n",
    "    print(\"\\nSaving processed data to file...\\n\")\n",
    "    processed_data_file = data_saver.save_processed_data(df)\n",
    "    # Update the config file with the new processed data file path\n",
    "    config[\"data_file_paths\"][\"processed\"] = str(processed_data_file)\n",
    "    with open(yaml_path, \"w\") as file:\n",
    "        yaml.dump(config, file)\n"
   ]
  },
  {
   "cell_type": "markdown",
   "metadata": {},
   "source": [
    "### Get train/test data splits for RNN "
   ]
  },
  {
   "cell_type": "code",
   "execution_count": 37,
   "metadata": {},
   "outputs": [
    {
     "name": "stderr",
     "output_type": "stream",
     "text": [
      "src.data_preprocess.rnn_data_prep - INFO - Setting the data source for RNNDataPrep...\n",
      "\n",
      "\n",
      "src.data_preprocess.data_loader - INFO - Loading train/test datasets from /Users/JawanHaider/Documents/Projects/Collaborative/Dogar/flywasp-fd/data/rnn_input/20231115...\n",
      "\n",
      "\n"
     ]
    },
    {
     "name": "stdout",
     "output_type": "stream",
     "text": [
      "Using file data\n",
      "\n",
      "\n"
     ]
    },
    {
     "name": "stderr",
     "output_type": "stream",
     "text": [
      "src.data_preprocess.data_loader - INFO - Successfully loaded train/test + indices from /Users/JawanHaider/Documents/Projects/Collaborative/Dogar/flywasp-fd/data/rnn_input/20231115.\n",
      "\n",
      "\n",
      "src.data_preprocess.rnn_data_prep - INFO - Train/test loaded from file as data_source.\n",
      "Use get_rnn_data() without params to retrieve train/test splits.\n",
      "\n",
      "\n",
      "src.data_preprocess.rnn_data_prep - INFO - Getting train-test data splits...\n",
      "\n",
      "\n"
     ]
    }
   ],
   "source": [
    "# Set data source as raw or processed\n",
    "df_processed = df if not is_load_train_test_data else None\n",
    "train_test_path = train_test_data_dir if is_load_train_test_data else None\n",
    "data_source_type = \"df\" if df_processed is not None else \"file\"\n",
    "print(f\"Using {data_source_type} data\\n\\n\")\n",
    "\n",
    "rnn_data_preparer = RNNDataPrep().set_data_source(\n",
    "    df_processed,\n",
    "    train_test_path,\n",
    ")\n",
    "train_test_dict, test_indices = rnn_data_preparer.get_rnn_data(seq_len)\n",
    "X_train, Y_train, X_test, Y_test = (\n",
    "    train_test_dict[\"X_train\"],\n",
    "    train_test_dict[\"Y_train\"],\n",
    "    train_test_dict[\"X_test\"],\n",
    "    train_test_dict[\"Y_test\"],\n",
    ")\n",
    "# ======================= Optionally save data ======================= #\n",
    "# Optionally save data\n",
    "if is_save_train_test and not is_load_train_test_data:\n",
    "    print(\"\\nSaving train/test data to file...\\n\")\n",
    "    train_test_data_dir = data_saver.save_train_test_data(\n",
    "        X_train, Y_train, X_test, Y_test, test_indices\n",
    "    )\n",
    "    # Update the config file with the new train/test data file path\n",
    "    config[\"data_file_paths\"][\"rnn_input_dir\"] = str(train_test_data_dir)\n",
    "    with open(yaml_path, \"w\") as file:\n",
    "        yaml.dump(config, file)\n"
   ]
  },
  {
   "cell_type": "markdown",
   "metadata": {},
   "source": [
    "## Running some checks..."
   ]
  },
  {
   "cell_type": "code",
   "execution_count": 38,
   "metadata": {},
   "outputs": [
    {
     "name": "stdout",
     "output_type": "stream",
     "text": [
      "X_train shape:  (6527546, 5, 19)\n",
      "Y_train shape:  (6527546,)\n",
      "X_test shape:  (3263774, 5, 19)\n",
      "Y_test shape:  (3263774,)\n"
     ]
    }
   ],
   "source": [
    "# Print shapes\n",
    "print(\"X_train shape: \", X_train.shape)\n",
    "print(\"Y_train shape: \", Y_train.shape)\n",
    "print(\"X_test shape: \", X_test.shape)\n",
    "print(\"Y_test shape: \", Y_test.shape)\n"
   ]
  },
  {
   "cell_type": "markdown",
   "metadata": {},
   "source": [
    "### Check data imbalance"
   ]
  },
  {
   "cell_type": "code",
   "execution_count": 39,
   "metadata": {},
   "outputs": [
    {
     "name": "stderr",
     "output_type": "stream",
     "text": [
      "root - INFO - Checking for data imbalance...\n",
      "\n"
     ]
    },
    {
     "name": "stderr",
     "output_type": "stream",
     "text": [
      "root - INFO - Y_train: (array([0., 1.]), array([6523639,    3907]))\n",
      "\n",
      "root - INFO - Y_test: (array([0., 1.]), array([3262149,    1625]))\n",
      "\n"
     ]
    }
   ],
   "source": [
    "# Check for data imbalance in Y_train and Y_test\n",
    "# Note that the single feature in Y data is a binary classification\n",
    "# 0: no walk\n",
    "# 1: walk\n",
    "logging.info(\"Checking for data imbalance...\")\n",
    "logging.info(f\"Y_train: {np.unique(Y_train, return_counts=True)}\")\n",
    "logging.info(f\"Y_test: {np.unique(Y_test, return_counts=True)}\")\n"
   ]
  },
  {
   "cell_type": "markdown",
   "metadata": {},
   "source": [
    "### Check for invalid values (NaN's and Inf's)"
   ]
  },
  {
   "cell_type": "code",
   "execution_count": 40,
   "metadata": {},
   "outputs": [],
   "source": [
    "# num_nan_values_X_train = np.isnan(X_train).sum()\n",
    "# num_nan_values_X_test = np.isnan(X_test).sum()\n",
    "# num_nan_values_Y_train = np.isnan(Y_train).sum()\n",
    "# num_nan_values_Y_test = np.isnan(Y_test).sum()\n",
    "# print(f\"Number of NaN values in train X set: {num_nan_values_X_train}\")\n",
    "# print(f\"Number of NaN values in test X set: {num_nan_values_X_test}\")\n",
    "# print(f\"Number of NaN values in train Y set: {num_nan_values_Y_train}\")\n",
    "# print(f\"Number of NaN values in test Y set: {num_nan_values_Y_test}\\n\")\n",
    "\n",
    "# num_inf_values_X_train = np.isinf(X_train).sum()\n",
    "# num_inf_values_X_test = np.isinf(X_test).sum()\n",
    "# num_inf_values_Y_train = np.isinf(Y_train).sum()\n",
    "# num_inf_values_Y_test = np.isinf(Y_test).sum()\n",
    "# print(f\"Number of inf values in train X set: {num_inf_values_X_train}\")\n",
    "# print(f\"Number of inf values in test X set: {num_inf_values_X_test}\")\n",
    "# print(f\"Number of inf values in train Y set: {num_inf_values_Y_train}\")\n",
    "# print(f\"Number of inf values in test Y set: {num_inf_values_Y_test}\")\n"
   ]
  },
  {
   "cell_type": "markdown",
   "metadata": {},
   "source": [
    "#### Replace NaN's and Inf's with 0"
   ]
  },
  {
   "cell_type": "code",
   "execution_count": 41,
   "metadata": {},
   "outputs": [],
   "source": [
    "# X_train[np.isnan(X_train)] = 0\n",
    "# X_test[np.isnan(X_test)] = 0\n",
    "# Y_train[np.isnan(Y_train)] = 0\n",
    "# Y_test[np.isnan(Y_test)] = 0\n",
    "\n",
    "# X_train[np.isinf(X_train)] = 0\n",
    "# X_test[np.isinf(X_test)] = 0\n",
    "# Y_train[np.isinf(Y_train)] = 0\n",
    "# Y_test[np.isinf(Y_test)] = 0\n",
    "\n",
    "# # handle_inf_na(X_train, X_test)\n"
   ]
  },
  {
   "cell_type": "code",
   "execution_count": 42,
   "metadata": {},
   "outputs": [
    {
     "name": "stdout",
     "output_type": "stream",
     "text": [
      "5 19\n"
     ]
    }
   ],
   "source": [
    "print(X_train.shape[1], X_train.shape[2])\n"
   ]
  },
  {
   "cell_type": "markdown",
   "metadata": {},
   "source": [
    "## RNN Model"
   ]
  },
  {
   "cell_type": "markdown",
   "metadata": {},
   "source": [
    "### Define hyperparameters and architecture"
   ]
  },
  {
   "cell_type": "code",
   "execution_count": 43,
   "metadata": {},
   "outputs": [],
   "source": [
    "# device = torch.device(\"mps\" if torch.backends.mps.is_available() else \"cpu\")\n",
    "input_size = X_train.shape[2]\n",
    "hidden_size = 38\n",
    "output_size = 2\n",
    "num_hidden_layers = 3\n",
    "learning_rate = 0.01\n",
    "nonlinearity = \"tanh\"\n",
    "# device = torch.device(\"cpu\")\n",
    "device = torch.device(\"mps\")\n",
    "batch_size = (512 * 10) if device == torch.device(\"mps\") else 512\n",
    "num_epochs = 10\n",
    "batch_first = True\n",
    "prints_per_epoch = 10\n",
    "kwargs = {\"num_workers\": 2, \"pin_memory\": True}  # For GPU training\n",
    "# The num_workers parameter determines the number of subprocesses\n",
    "# to use for data loading. When num_workers > 0, multiple worker\n",
    "# processes are used. If num_workers = 0, then the data will be\n",
    "# loaded in the main process.\n",
    "# The pin_memory parameter allows you to set the value of the\n",
    "# pin_memory flag for the DataLoader. If pin_memory = True, the\n",
    "# data loader will copy Tensors into GPU pinned memory before\n",
    "# returning them.\n"
   ]
  },
  {
   "cell_type": "markdown",
   "metadata": {},
   "source": [
    "### Instantiate model and set up training environment"
   ]
  },
  {
   "cell_type": "code",
   "execution_count": 44,
   "metadata": {},
   "outputs": [
    {
     "name": "stdout",
     "output_type": "stream",
     "text": [
      "Device is mps -- Using num_workers=2 & pin_memory=True.\n",
      "\n"
     ]
    },
    {
     "name": "stderr",
     "output_type": "stream",
     "text": [
      "src.models.rnn_model - INFO - Model Summary (torchinfo): \n",
      "\n"
     ]
    },
    {
     "name": "stdout",
     "output_type": "stream",
     "text": [
      "==========================================================================================\n",
      "Layer (type:depth-idx)                   Output Shape              Param #\n",
      "==========================================================================================\n",
      "RNN                                      [5120, 2]                 --\n",
      "├─RNN: 1-1                               [5120, 5, 38]             8,170\n",
      "│    └─weight_ih_l0                                                ├─722\n",
      "│    └─weight_hh_l0                                                ├─1,444\n",
      "│    └─bias_ih_l0                                                  ├─38\n",
      "│    └─bias_hh_l0                                                  ├─38\n",
      "│    └─weight_ih_l1                                                ├─1,444\n",
      "│    └─weight_hh_l1                                                ├─1,444\n",
      "│    └─bias_ih_l1                                                  ├─38\n",
      "│    └─bias_hh_l1                                                  ├─38\n",
      "│    └─weight_ih_l2                                                ├─1,444\n",
      "│    └─weight_hh_l2                                                ├─1,444\n",
      "│    └─bias_ih_l2                                                  ├─38\n",
      "│    └─bias_hh_l2                                                  └─38\n",
      "├─Linear: 1-2                            [5120, 2]                 78\n",
      "│    └─weight                                                      ├─76\n",
      "│    └─bias                                                        └─2\n",
      "├─Sigmoid: 1-3                           [5120, 2]                 --\n",
      "==========================================================================================\n",
      "Total params: 8,248\n",
      "Trainable params: 8,248\n",
      "Non-trainable params: 0\n",
      "Total mult-adds (Units.MEGABYTES): 209.55\n",
      "==========================================================================================\n",
      "Input size (MB): 1.95\n",
      "Forward/backward pass size (MB): 7.86\n",
      "Params size (MB): 0.03\n",
      "Estimated Total Size (MB): 9.84\n",
      "==========================================================================================\n",
      "\n",
      "Model Summary (PyTorch): \n",
      "RNN(\n",
      "  (rnn): RNN(19, 38, num_layers=3, batch_first=True)\n",
      "  (fc): Linear(in_features=38, out_features=2, bias=True)\n",
      "  (sigmoid): Sigmoid()\n",
      ")\n",
      "\n"
     ]
    }
   ],
   "source": [
    "(\n",
    "    model,\n",
    "    train_loader,\n",
    "    test_loader,\n",
    "    criterion,\n",
    "    optimizer,\n",
    "    scheduler,\n",
    "    cross_entropy_weights,\n",
    "    summary\n",
    ") = rnn_model.setup_train_env(\n",
    "    X_train,\n",
    "    Y_train,\n",
    "    X_test,\n",
    "    Y_test,\n",
    "    input_size=input_size,\n",
    "    hidden_size=hidden_size,\n",
    "    output_size=output_size,\n",
    "    num_hidden_layers=num_hidden_layers,\n",
    "    learning_rate=learning_rate,\n",
    "    nonlinearity=nonlinearity,\n",
    "    batch_size=batch_size,\n",
    "    device=device,\n",
    "    batch_first=batch_first,\n",
    "    sv=2,\n",
    "    **kwargs,\n",
    ")\n",
    "print(f\"\\nModel Summary (PyTorch): \\n{model}\\n\")\n"
   ]
  },
  {
   "cell_type": "markdown",
   "metadata": {},
   "source": [
    "### Train model"
   ]
  },
  {
   "cell_type": "code",
   "execution_count": 45,
   "metadata": {},
   "outputs": [
    {
     "name": "stdout",
     "output_type": "stream",
     "text": [
      "\n",
      "Training RNN Model (mps)...\n",
      "==============================\n",
      "\n"
     ]
    },
    {
     "data": {
      "application/vnd.jupyter.widget-view+json": {
       "model_id": "b5c3cbfdbc404c679fc93b376964d1fc",
       "version_major": 2,
       "version_minor": 0
      },
      "text/plain": [
       "Epochs:   0%|          | 0/10 [00:00<?, ?it/s]"
      ]
     },
     "metadata": {},
     "output_type": "display_data"
    },
    {
     "name": "stderr",
     "output_type": "stream",
     "text": [
      "src.models.train_eval - INFO - Number of batches: 1275\n",
      "\n",
      "src.models.train_eval - INFO - Batch size: 5120\n",
      "\n",
      "\n"
     ]
    },
    {
     "name": "stdout",
     "output_type": "stream",
     "text": [
      "Epoch 1/10\n",
      "-------------------------------\n",
      "Training the model...\n"
     ]
    },
    {
     "data": {
      "application/vnd.jupyter.widget-view+json": {
       "model_id": "77c246a95e8840f6ba22d23f917cf358",
       "version_major": 2,
       "version_minor": 0
      },
      "text/plain": [
       "Training...:   0%|          | 0/1275 [00:00<?, ?it/s]"
      ]
     },
     "metadata": {},
     "output_type": "display_data"
    },
    {
     "name": "stdout",
     "output_type": "stream",
     "text": [
      "Loss: 0.658695  [ 5120/6527546]\n",
      "Loss: 0.533649  [655360/6527546]\n",
      "Loss: 0.520195  [1305600/6527546]\n",
      "Loss: 0.389962  [1955840/6527546]\n",
      "Loss: 0.336770  [2606080/6527546]\n",
      "Loss: 0.327245  [3256320/6527546]\n",
      "Loss: 0.323250  [3906560/6527546]\n",
      "Loss: 0.321048  [4556800/6527546]\n",
      "Loss: 0.319651  [5207040/6527546]\n",
      "Loss: 0.318686  [5857280/6527546]\n",
      "Loss: 0.317978  [6507520/6527546]\n"
     ]
    },
    {
     "name": "stderr",
     "output_type": "stream",
     "text": [
      "src.models.train_eval - INFO - \n",
      "Sum squared grads/params in Epoch 1:\n",
      "\tSum of squared gradients :     232.5367\n",
      "\tSum of squared parameters:   98000.6367\n",
      "\n",
      "src.models.train_eval - INFO - \n",
      "Train Performance: \n",
      " Accuracy: 74.2%, Avg loss: 0.396411, F1 Score: 0.0046 \n",
      "\n",
      "\n",
      "src.models.train_eval - INFO - Training Epoch 1 took 3.9 minutes.\n",
      "\n"
     ]
    },
    {
     "name": "stdout",
     "output_type": "stream",
     "text": [
      "Evaluating the model...\n"
     ]
    },
    {
     "data": {
      "application/vnd.jupyter.widget-view+json": {
       "model_id": "e1715399793a4777afb8d75bb23dd872",
       "version_major": 2,
       "version_minor": 0
      },
      "text/plain": [
       "Testing...:   0%|          | 0/638 [00:00<?, ?it/s]"
      ]
     },
     "metadata": {},
     "output_type": "display_data"
    },
    {
     "name": "stderr",
     "output_type": "stream",
     "text": [
      "src.models.train_eval - INFO - Test Performance: \n",
      " Accuracy: 91.1%, Avg loss: 0.383961, F1 Score: 0.4808 \n",
      "\n",
      "\n",
      "src.models.train_eval - INFO - Evaluating Epoch 1 took 0.9 minutes.\n",
      "\n",
      "src.models.train_eval - INFO - Training Data Distribution: {0.0: 3262149, 1.0: 1625}\n",
      "\n",
      "src.models.train_eval - INFO - Predicted Data Distribution: {0.0: 2971320, 1.0: 292454}\n",
      "\n",
      "src.models.train_eval - INFO - Epoch 1 Metrics --\n",
      "Train Loss: 0.3964,\n",
      "Test Loss: 0.3840,\n",
      "Train Acc: 74.2%,\n",
      "Test Acc: 91.1%,\n",
      "Train F1 Score: 0.0046,\n",
      "Test F1: 0.4808,\n",
      "Test PR AUC: 0.0074\n",
      "\n",
      "\n",
      "\n",
      "src.models.train_eval - INFO - Number of batches: 1275\n",
      "\n",
      "src.models.train_eval - INFO - Batch size: 5120\n",
      "\n",
      "\n"
     ]
    },
    {
     "name": "stdout",
     "output_type": "stream",
     "text": [
      "Epoch 2/10\n",
      "-------------------------------\n",
      "Training the model...\n"
     ]
    },
    {
     "data": {
      "application/vnd.jupyter.widget-view+json": {
       "model_id": "ed7210c6440d414daab7973e48d04d89",
       "version_major": 2,
       "version_minor": 0
      },
      "text/plain": [
       "Training...:   0%|          | 0/1275 [00:00<?, ?it/s]"
      ]
     },
     "metadata": {},
     "output_type": "display_data"
    },
    {
     "name": "stdout",
     "output_type": "stream",
     "text": [
      "Loss: 0.640688  [ 5120/6527546]\n",
      "Loss: 0.524166  [655360/6527546]\n",
      "Loss: 0.489932  [1305600/6527546]\n",
      "Loss: 0.317428  [1955840/6527546]\n",
      "Loss: 0.316991  [2606080/6527546]\n",
      "Loss: 0.316639  [3256320/6527546]\n",
      "Loss: 0.316350  [3906560/6527546]\n",
      "Loss: 0.316108  [4556800/6527546]\n",
      "Loss: 0.315902  [5207040/6527546]\n",
      "Loss: 0.315724  [5857280/6527546]\n",
      "Loss: 0.315570  [6507520/6527546]\n"
     ]
    },
    {
     "name": "stderr",
     "output_type": "stream",
     "text": [
      "src.models.train_eval - INFO - \n",
      "Sum squared grads/params in Epoch 2:\n",
      "\tSum of squared gradients :    1825.7675\n",
      "\tSum of squared parameters:  100128.8060\n",
      "\n",
      "src.models.train_eval - INFO - \n",
      "Train Performance: \n",
      " Accuracy: 79.5%, Avg loss: 0.370212, F1 Score: 0.0055 \n",
      "\n",
      "\n",
      "src.models.train_eval - INFO - Training Epoch 2 took 5.6 minutes.\n",
      "\n"
     ]
    },
    {
     "name": "stdout",
     "output_type": "stream",
     "text": [
      "Evaluating the model...\n"
     ]
    },
    {
     "data": {
      "application/vnd.jupyter.widget-view+json": {
       "model_id": "41632a9ccf634b3a8bdd1d8fde346e3f",
       "version_major": 2,
       "version_minor": 0
      },
      "text/plain": [
       "Testing...:   0%|          | 0/638 [00:00<?, ?it/s]"
      ]
     },
     "metadata": {},
     "output_type": "display_data"
    },
    {
     "name": "stderr",
     "output_type": "stream",
     "text": [
      "src.models.train_eval - INFO - Test Performance: \n",
      " Accuracy: 78.8%, Avg loss: 0.374491, F1 Score: 0.4429 \n",
      "\n",
      "\n",
      "src.models.train_eval - INFO - Evaluating Epoch 2 took 1.2 minutes.\n",
      "\n",
      "src.models.train_eval - INFO - Training Data Distribution: {0.0: 3262149, 1.0: 1625}\n",
      "\n",
      "src.models.train_eval - INFO - Predicted Data Distribution: {0.0: 2569625, 1.0: 694149}\n",
      "\n",
      "src.models.train_eval - INFO - Epoch 2 Metrics --\n",
      "Train Loss: 0.3702,\n",
      "Test Loss: 0.3745,\n",
      "Train Acc: 79.5%,\n",
      "Test Acc: 78.8%,\n",
      "Train F1 Score: 0.0055,\n",
      "Test F1: 0.4429,\n",
      "Test PR AUC: 0.0101\n",
      "\n",
      "\n",
      "\n",
      "src.models.train_eval - INFO - Number of batches: 1275\n",
      "\n",
      "src.models.train_eval - INFO - Batch size: 5120\n",
      "\n",
      "\n"
     ]
    },
    {
     "name": "stdout",
     "output_type": "stream",
     "text": [
      "Epoch 3/10\n",
      "-------------------------------\n",
      "Training the model...\n"
     ]
    },
    {
     "data": {
      "application/vnd.jupyter.widget-view+json": {
       "model_id": "4efbc033fa184751952a754121cf177a",
       "version_major": 2,
       "version_minor": 0
      },
      "text/plain": [
       "Training...:   0%|          | 0/1275 [00:00<?, ?it/s]"
      ]
     },
     "metadata": {},
     "output_type": "display_data"
    },
    {
     "name": "stdout",
     "output_type": "stream",
     "text": [
      "Loss: 0.490506  [ 5120/6527546]\n",
      "Loss: 0.503392  [655360/6527546]\n",
      "Loss: 0.503348  [1305600/6527546]\n",
      "Loss: 0.315328  [1955840/6527546]\n",
      "Loss: 0.315218  [2606080/6527546]\n",
      "Loss: 0.315120  [3256320/6527546]\n",
      "Loss: 0.315031  [3906560/6527546]\n",
      "Loss: 0.314950  [4556800/6527546]\n",
      "Loss: 0.314877  [5207040/6527546]\n",
      "Loss: 0.314810  [5857280/6527546]\n",
      "Loss: 0.314749  [6507520/6527546]\n"
     ]
    },
    {
     "name": "stderr",
     "output_type": "stream",
     "text": [
      "src.models.train_eval - INFO - \n",
      "Sum squared grads/params in Epoch 3:\n",
      "\tSum of squared gradients :    1510.3473\n",
      "\tSum of squared parameters:  101109.1148\n",
      "\n",
      "src.models.train_eval - INFO - \n",
      "Train Performance: \n",
      " Accuracy: 79.7%, Avg loss: 0.367825, F1 Score: 0.0056 \n",
      "\n",
      "\n",
      "src.models.train_eval - INFO - Training Epoch 3 took 7.9 minutes.\n",
      "\n"
     ]
    },
    {
     "name": "stdout",
     "output_type": "stream",
     "text": [
      "Evaluating the model...\n"
     ]
    },
    {
     "data": {
      "application/vnd.jupyter.widget-view+json": {
       "model_id": "17841319381a4c67831c06d086c0f4b2",
       "version_major": 2,
       "version_minor": 0
      },
      "text/plain": [
       "Testing...:   0%|          | 0/638 [00:00<?, ?it/s]"
      ]
     },
     "metadata": {},
     "output_type": "display_data"
    },
    {
     "name": "stderr",
     "output_type": "stream",
     "text": [
      "src.models.train_eval - INFO - Test Performance: \n",
      " Accuracy: 86.1%, Avg loss: 0.372229, F1 Score: 0.4658 \n",
      "\n",
      "\n",
      "src.models.train_eval - INFO - Evaluating Epoch 3 took 1.2 minutes.\n",
      "\n",
      "src.models.train_eval - INFO - Training Data Distribution: {0.0: 3262149, 1.0: 1625}\n",
      "\n",
      "src.models.train_eval - INFO - Predicted Data Distribution: {0.0: 2809460, 1.0: 454314}\n",
      "\n",
      "src.models.train_eval - INFO - Epoch 3 Metrics --\n",
      "Train Loss: 0.3678,\n",
      "Test Loss: 0.3722,\n",
      "Train Acc: 79.7%,\n",
      "Test Acc: 86.1%,\n",
      "Train F1 Score: 0.0056,\n",
      "Test F1: 0.4658,\n",
      "Test PR AUC: 0.0078\n",
      "\n",
      "\n",
      "\n",
      "src.models.train_eval - INFO - Number of batches: 1275\n",
      "\n",
      "src.models.train_eval - INFO - Batch size: 5120\n",
      "\n",
      "\n"
     ]
    },
    {
     "name": "stdout",
     "output_type": "stream",
     "text": [
      "Epoch 4/10\n",
      "-------------------------------\n",
      "Training the model...\n"
     ]
    },
    {
     "data": {
      "application/vnd.jupyter.widget-view+json": {
       "model_id": "70fafc22890a46c1a2f58b68a8b10d31",
       "version_major": 2,
       "version_minor": 0
      },
      "text/plain": [
       "Training...:   0%|          | 0/1275 [00:00<?, ?it/s]"
      ]
     },
     "metadata": {},
     "output_type": "display_data"
    },
    {
     "name": "stdout",
     "output_type": "stream",
     "text": [
      "Loss: 0.505289  [ 5120/6527546]\n",
      "Loss: 0.544460  [655360/6527546]\n",
      "Loss: 0.522718  [1305600/6527546]\n",
      "Loss: 0.314660  [1955840/6527546]\n",
      "Loss: 0.314610  [2606080/6527546]\n",
      "Loss: 0.314563  [3256320/6527546]\n",
      "Loss: 0.314519  [3906560/6527546]\n",
      "Loss: 0.314478  [4556800/6527546]\n",
      "Loss: 0.314440  [5207040/6527546]\n",
      "Loss: 0.314405  [5857280/6527546]\n",
      "Loss: 0.314371  [6507520/6527546]\n"
     ]
    },
    {
     "name": "stderr",
     "output_type": "stream",
     "text": [
      "src.models.train_eval - INFO - \n",
      "Sum squared grads/params in Epoch 4:\n",
      "\tSum of squared gradients :    1722.4426\n",
      "\tSum of squared parameters:  101785.5632\n",
      "\n",
      "src.models.train_eval - INFO - \n",
      "Train Performance: \n",
      " Accuracy: 79.0%, Avg loss: 0.370340, F1 Score: 0.0054 \n",
      "\n",
      "\n",
      "src.models.train_eval - INFO - Training Epoch 4 took 6.8 minutes.\n",
      "\n"
     ]
    },
    {
     "name": "stdout",
     "output_type": "stream",
     "text": [
      "Evaluating the model...\n"
     ]
    },
    {
     "data": {
      "application/vnd.jupyter.widget-view+json": {
       "model_id": "0ec4a7d403fd41c491a48f5aa8f431ef",
       "version_major": 2,
       "version_minor": 0
      },
      "text/plain": [
       "Testing...:   0%|          | 0/638 [00:00<?, ?it/s]"
      ]
     },
     "metadata": {},
     "output_type": "display_data"
    },
    {
     "name": "stderr",
     "output_type": "stream",
     "text": [
      "src.models.train_eval - INFO - Test Performance: \n",
      " Accuracy: 75.3%, Avg loss: 0.380731, F1 Score: 0.4314 \n",
      "\n",
      "\n",
      "src.models.train_eval - INFO - Evaluating Epoch 4 took 0.9 minutes.\n",
      "\n",
      "src.models.train_eval - INFO - Training Data Distribution: {0.0: 3262149, 1.0: 1625}\n",
      "\n",
      "src.models.train_eval - INFO - Predicted Data Distribution: {0.0: 2454834, 1.0: 808940}\n",
      "\n",
      "src.models.train_eval - INFO - Epoch 4 Metrics --\n",
      "Train Loss: 0.3703,\n",
      "Test Loss: 0.3807,\n",
      "Train Acc: 79.0%,\n",
      "Test Acc: 75.3%,\n",
      "Train F1 Score: 0.0054,\n",
      "Test F1: 0.4314,\n",
      "Test PR AUC: 0.0059\n",
      "\n",
      "\n",
      "\n",
      "src.models.train_eval - INFO - Number of batches: 1275\n",
      "\n",
      "src.models.train_eval - INFO - Batch size: 5120\n",
      "\n",
      "\n"
     ]
    },
    {
     "name": "stdout",
     "output_type": "stream",
     "text": [
      "Epoch 5/10\n",
      "-------------------------------\n",
      "Training the model...\n"
     ]
    },
    {
     "data": {
      "application/vnd.jupyter.widget-view+json": {
       "model_id": "e0aefd45914e4e8fba89fd22795de012",
       "version_major": 2,
       "version_minor": 0
      },
      "text/plain": [
       "Training...:   0%|          | 0/1275 [00:00<?, ?it/s]"
      ]
     },
     "metadata": {},
     "output_type": "display_data"
    },
    {
     "name": "stdout",
     "output_type": "stream",
     "text": [
      "Loss: 0.490486  [ 5120/6527546]\n",
      "Loss: 0.522769  [655360/6527546]\n",
      "Loss: 0.503281  [1305600/6527546]\n",
      "Loss: 0.314329  [1955840/6527546]\n",
      "Loss: 0.314300  [2606080/6527546]\n",
      "Loss: 0.314272  [3256320/6527546]\n",
      "Loss: 0.314246  [3906560/6527546]\n",
      "Loss: 0.314221  [4556800/6527546]\n",
      "Loss: 0.314198  [5207040/6527546]\n",
      "Loss: 0.314175  [5857280/6527546]\n",
      "Loss: 0.314154  [6507520/6527546]\n"
     ]
    },
    {
     "name": "stderr",
     "output_type": "stream",
     "text": [
      "src.models.train_eval - INFO - \n",
      "Sum squared grads/params in Epoch 5:\n",
      "\tSum of squared gradients :    1340.4228\n",
      "\tSum of squared parameters:  102288.7326\n",
      "\n",
      "src.models.train_eval - INFO - \n",
      "Train Performance: \n",
      " Accuracy: 78.5%, Avg loss: 0.371856, F1 Score: 0.0053 \n",
      "\n",
      "\n",
      "src.models.train_eval - INFO - Training Epoch 5 took 5.4 minutes.\n",
      "\n"
     ]
    },
    {
     "name": "stdout",
     "output_type": "stream",
     "text": [
      "Evaluating the model...\n"
     ]
    },
    {
     "data": {
      "application/vnd.jupyter.widget-view+json": {
       "model_id": "1c30857db05f4c1b997479d5d8aa0462",
       "version_major": 2,
       "version_minor": 0
      },
      "text/plain": [
       "Testing...:   0%|          | 0/638 [00:00<?, ?it/s]"
      ]
     },
     "metadata": {},
     "output_type": "display_data"
    },
    {
     "name": "stderr",
     "output_type": "stream",
     "text": [
      "src.models.train_eval - INFO - Test Performance: \n",
      " Accuracy: 86.4%, Avg loss: 0.372723, F1 Score: 0.4668 \n",
      "\n",
      "\n",
      "src.models.train_eval - INFO - Evaluating Epoch 5 took 1.2 minutes.\n",
      "\n",
      "src.models.train_eval - INFO - Training Data Distribution: {0.0: 3262149, 1.0: 1625}\n",
      "\n",
      "src.models.train_eval - INFO - Predicted Data Distribution: {0.0: 2819789, 1.0: 443985}\n",
      "\n",
      "src.models.train_eval - INFO - Epoch 5 Metrics --\n",
      "Train Loss: 0.3719,\n",
      "Test Loss: 0.3727,\n",
      "Train Acc: 78.5%,\n",
      "Test Acc: 86.4%,\n",
      "Train F1 Score: 0.0053,\n",
      "Test F1: 0.4668,\n",
      "Test PR AUC: 0.0084\n",
      "\n",
      "\n",
      "\n",
      "src.models.train_eval - INFO - Number of batches: 1275\n",
      "\n",
      "src.models.train_eval - INFO - Batch size: 5120\n",
      "\n",
      "\n"
     ]
    },
    {
     "name": "stdout",
     "output_type": "stream",
     "text": [
      "Epoch 6/10\n",
      "-------------------------------\n",
      "Training the model...\n"
     ]
    },
    {
     "data": {
      "application/vnd.jupyter.widget-view+json": {
       "model_id": "d4d83fd8de4c46d6ab841879644cd38e",
       "version_major": 2,
       "version_minor": 0
      },
      "text/plain": [
       "Training...:   0%|          | 0/1275 [00:00<?, ?it/s]"
      ]
     },
     "metadata": {},
     "output_type": "display_data"
    },
    {
     "name": "stdout",
     "output_type": "stream",
     "text": [
      "Loss: 0.496555  [ 5120/6527546]\n",
      "Loss: 0.507006  [655360/6527546]\n",
      "Loss: 0.519502  [1305600/6527546]\n",
      "Loss: 0.314125  [1955840/6527546]\n",
      "Loss: 0.314106  [2606080/6527546]\n",
      "Loss: 0.314087  [3256320/6527546]\n",
      "Loss: 0.314070  [3906560/6527546]\n",
      "Loss: 0.314053  [4556800/6527546]\n",
      "Loss: 0.314038  [5207040/6527546]\n",
      "Loss: 0.314022  [5857280/6527546]\n",
      "Loss: 0.314007  [6507520/6527546]\n"
     ]
    },
    {
     "name": "stderr",
     "output_type": "stream",
     "text": [
      "src.models.train_eval - INFO - \n",
      "Sum squared grads/params in Epoch 6:\n",
      "\tSum of squared gradients :    1744.1768\n",
      "\tSum of squared parameters:  102784.9202\n",
      "\n",
      "src.models.train_eval - INFO - \n",
      "Train Performance: \n",
      " Accuracy: 79.7%, Avg loss: 0.368114, F1 Score: 0.0056 \n",
      "\n",
      "\n",
      "src.models.train_eval - INFO - Training Epoch 6 took 13.1 minutes.\n",
      "\n"
     ]
    },
    {
     "name": "stdout",
     "output_type": "stream",
     "text": [
      "Evaluating the model...\n"
     ]
    },
    {
     "data": {
      "application/vnd.jupyter.widget-view+json": {
       "model_id": "4f2b97aadc6e4e118ae2576ab423cc43",
       "version_major": 2,
       "version_minor": 0
      },
      "text/plain": [
       "Testing...:   0%|          | 0/638 [00:00<?, ?it/s]"
      ]
     },
     "metadata": {},
     "output_type": "display_data"
    },
    {
     "name": "stderr",
     "output_type": "stream",
     "text": [
      "src.models.train_eval - INFO - Test Performance: \n",
      " Accuracy: 75.9%, Avg loss: 0.382473, F1 Score: 0.4336 \n",
      "\n",
      "\n",
      "src.models.train_eval - INFO - Evaluating Epoch 6 took 1.0 minutes.\n",
      "\n",
      "src.models.train_eval - INFO - Training Data Distribution: {0.0: 3262149, 1.0: 1625}\n",
      "\n",
      "src.models.train_eval - INFO - Predicted Data Distribution: {0.0: 2476646, 1.0: 787128}\n",
      "\n",
      "src.models.train_eval - INFO - Epoch 6 Metrics --\n",
      "Train Loss: 0.3681,\n",
      "Test Loss: 0.3825,\n",
      "Train Acc: 79.7%,\n",
      "Test Acc: 75.9%,\n",
      "Train F1 Score: 0.0056,\n",
      "Test F1: 0.4336,\n",
      "Test PR AUC: 0.0054\n",
      "\n",
      "\n",
      "\n",
      "src.models.train_eval - INFO - Number of batches: 1275\n",
      "\n",
      "src.models.train_eval - INFO - Batch size: 5120\n",
      "\n",
      "\n"
     ]
    },
    {
     "name": "stdout",
     "output_type": "stream",
     "text": [
      "Epoch 7/10\n",
      "-------------------------------\n",
      "Training the model...\n"
     ]
    },
    {
     "data": {
      "application/vnd.jupyter.widget-view+json": {
       "model_id": "5b88a15e009d4fd5a15bee9fdec2e718",
       "version_major": 2,
       "version_minor": 0
      },
      "text/plain": [
       "Training...:   0%|          | 0/1275 [00:00<?, ?it/s]"
      ]
     },
     "metadata": {},
     "output_type": "display_data"
    },
    {
     "name": "stdout",
     "output_type": "stream",
     "text": [
      "Loss: 0.484544  [ 5120/6527546]\n",
      "Loss: 0.532673  [655360/6527546]\n",
      "Loss: 0.501349  [1305600/6527546]\n",
      "Loss: 0.313988  [1955840/6527546]\n",
      "Loss: 0.313974  [2606080/6527546]\n",
      "Loss: 0.313961  [3256320/6527546]\n",
      "Loss: 0.313949  [3906560/6527546]\n",
      "Loss: 0.313937  [4556800/6527546]\n",
      "Loss: 0.313926  [5207040/6527546]\n",
      "Loss: 0.313914  [5857280/6527546]\n",
      "Loss: 0.313904  [6507520/6527546]\n"
     ]
    },
    {
     "name": "stderr",
     "output_type": "stream",
     "text": [
      "src.models.train_eval - INFO - \n",
      "Sum squared grads/params in Epoch 7:\n",
      "\tSum of squared gradients :    1460.6550\n",
      "\tSum of squared parameters:  103176.8053\n",
      "\n",
      "src.models.train_eval - INFO - \n",
      "Train Performance: \n",
      " Accuracy: 81.4%, Avg loss: 0.367016, F1 Score: 0.0060 \n",
      "\n",
      "\n",
      "src.models.train_eval - INFO - Training Epoch 7 took 4.9 minutes.\n",
      "\n"
     ]
    },
    {
     "name": "stdout",
     "output_type": "stream",
     "text": [
      "Evaluating the model...\n"
     ]
    },
    {
     "data": {
      "application/vnd.jupyter.widget-view+json": {
       "model_id": "0e3b81ac1d64408d8a57160cff789a43",
       "version_major": 2,
       "version_minor": 0
      },
      "text/plain": [
       "Testing...:   0%|          | 0/638 [00:00<?, ?it/s]"
      ]
     },
     "metadata": {},
     "output_type": "display_data"
    },
    {
     "name": "stderr",
     "output_type": "stream",
     "text": [
      "src.models.train_eval - INFO - Test Performance: \n",
      " Accuracy: 76.9%, Avg loss: 0.372807, F1 Score: 0.4369 \n",
      "\n",
      "\n",
      "src.models.train_eval - INFO - Evaluating Epoch 7 took 0.8 minutes.\n",
      "\n",
      "src.models.train_eval - INFO - Training Data Distribution: {0.0: 3262149, 1.0: 1625}\n",
      "\n",
      "src.models.train_eval - INFO - Predicted Data Distribution: {0.0: 2509576, 1.0: 754198}\n",
      "\n",
      "src.models.train_eval - INFO - Epoch 7 Metrics --\n",
      "Train Loss: 0.3670,\n",
      "Test Loss: 0.3728,\n",
      "Train Acc: 81.4%,\n",
      "Test Acc: 76.9%,\n",
      "Train F1 Score: 0.0060,\n",
      "Test F1: 0.4369,\n",
      "Test PR AUC: 0.0088\n",
      "\n",
      "\n",
      "\n",
      "src.models.train_eval - INFO - Number of batches: 1275\n",
      "\n",
      "src.models.train_eval - INFO - Batch size: 5120\n",
      "\n",
      "\n"
     ]
    },
    {
     "name": "stdout",
     "output_type": "stream",
     "text": [
      "Epoch 8/10\n",
      "-------------------------------\n",
      "Training the model...\n"
     ]
    },
    {
     "data": {
      "application/vnd.jupyter.widget-view+json": {
       "model_id": "6c1cab24db6c49de9b1d25285f06494a",
       "version_major": 2,
       "version_minor": 0
      },
      "text/plain": [
       "Training...:   0%|          | 0/1275 [00:00<?, ?it/s]"
      ]
     },
     "metadata": {},
     "output_type": "display_data"
    },
    {
     "name": "stdout",
     "output_type": "stream",
     "text": [
      "Loss: 0.470823  [ 5120/6527546]\n",
      "Loss: 0.515285  [655360/6527546]\n",
      "Loss: 0.486204  [1305600/6527546]\n",
      "Loss: 0.313906  [1955840/6527546]\n",
      "Loss: 0.313895  [2606080/6527546]\n",
      "Loss: 0.313885  [3256320/6527546]\n",
      "Loss: 0.313876  [3906560/6527546]\n",
      "Loss: 0.313866  [4556800/6527546]\n",
      "Loss: 0.313857  [5207040/6527546]\n",
      "Loss: 0.313848  [5857280/6527546]\n",
      "Loss: 0.313839  [6507520/6527546]\n"
     ]
    },
    {
     "name": "stderr",
     "output_type": "stream",
     "text": [
      "src.models.train_eval - INFO - \n",
      "Sum squared grads/params in Epoch 8:\n",
      "\tSum of squared gradients :    1406.7498\n",
      "\tSum of squared parameters:  103520.6106\n",
      "\n",
      "src.models.train_eval - INFO - \n",
      "Train Performance: \n",
      " Accuracy: 81.2%, Avg loss: 0.366039, F1 Score: 0.0059 \n",
      "\n",
      "\n",
      "src.models.train_eval - INFO - Training Epoch 8 took 4.8 minutes.\n",
      "\n"
     ]
    },
    {
     "name": "stdout",
     "output_type": "stream",
     "text": [
      "Evaluating the model...\n"
     ]
    },
    {
     "data": {
      "application/vnd.jupyter.widget-view+json": {
       "model_id": "f118413ed646439bbd2371e054e85232",
       "version_major": 2,
       "version_minor": 0
      },
      "text/plain": [
       "Testing...:   0%|          | 0/638 [00:00<?, ?it/s]"
      ]
     },
     "metadata": {},
     "output_type": "display_data"
    },
    {
     "name": "stderr",
     "output_type": "stream",
     "text": [
      "src.models.train_eval - INFO - Test Performance: \n",
      " Accuracy: 75.9%, Avg loss: 0.376202, F1 Score: 0.4335 \n",
      "\n",
      "\n",
      "src.models.train_eval - INFO - Evaluating Epoch 8 took 0.8 minutes.\n",
      "\n",
      "src.models.train_eval - INFO - Training Data Distribution: {0.0: 3262149, 1.0: 1625}\n",
      "\n",
      "src.models.train_eval - INFO - Predicted Data Distribution: {0.0: 2475256, 1.0: 788518}\n",
      "\n",
      "src.models.train_eval - INFO - Epoch 8 Metrics --\n",
      "Train Loss: 0.3660,\n",
      "Test Loss: 0.3762,\n",
      "Train Acc: 81.2%,\n",
      "Test Acc: 75.9%,\n",
      "Train F1 Score: 0.0059,\n",
      "Test F1: 0.4335,\n",
      "Test PR AUC: 0.0054\n",
      "\n",
      "\n",
      "\n",
      "src.models.train_eval - INFO - Number of batches: 1275\n",
      "\n",
      "src.models.train_eval - INFO - Batch size: 5120\n",
      "\n",
      "\n"
     ]
    },
    {
     "name": "stdout",
     "output_type": "stream",
     "text": [
      "Epoch 9/10\n",
      "-------------------------------\n",
      "Training the model...\n"
     ]
    },
    {
     "data": {
      "application/vnd.jupyter.widget-view+json": {
       "model_id": "1b2dfe5576234e51b46a920734e16c9f",
       "version_major": 2,
       "version_minor": 0
      },
      "text/plain": [
       "Training...:   0%|          | 0/1275 [00:00<?, ?it/s]"
      ]
     },
     "metadata": {},
     "output_type": "display_data"
    },
    {
     "name": "stdout",
     "output_type": "stream",
     "text": [
      "Loss: 0.482442  [ 5120/6527546]\n",
      "Loss: 0.594561  [655360/6527546]\n",
      "Loss: 0.499633  [1305600/6527546]\n",
      "Loss: 0.313835  [1955840/6527546]\n",
      "Loss: 0.313827  [2606080/6527546]\n",
      "Loss: 0.313819  [3256320/6527546]\n",
      "Loss: 0.313811  [3906560/6527546]\n",
      "Loss: 0.313803  [4556800/6527546]\n",
      "Loss: 0.313796  [5207040/6527546]\n",
      "Loss: 0.313789  [5857280/6527546]\n",
      "Loss: 0.313782  [6507520/6527546]\n"
     ]
    },
    {
     "name": "stderr",
     "output_type": "stream",
     "text": [
      "src.models.train_eval - INFO - \n",
      "Sum squared grads/params in Epoch 9:\n",
      "\tSum of squared gradients :    1436.6305\n",
      "\tSum of squared parameters:  103867.3056\n",
      "\n",
      "src.models.train_eval - INFO - \n",
      "Train Performance: \n",
      " Accuracy: 82.7%, Avg loss: 0.365220, F1 Score: 0.0063 \n",
      "\n",
      "\n",
      "src.models.train_eval - INFO - Training Epoch 9 took 4.8 minutes.\n",
      "\n"
     ]
    },
    {
     "name": "stdout",
     "output_type": "stream",
     "text": [
      "Evaluating the model...\n"
     ]
    },
    {
     "data": {
      "application/vnd.jupyter.widget-view+json": {
       "model_id": "4395dfe178b74f76945a0cad84c04d1d",
       "version_major": 2,
       "version_minor": 0
      },
      "text/plain": [
       "Testing...:   0%|          | 0/638 [00:00<?, ?it/s]"
      ]
     },
     "metadata": {},
     "output_type": "display_data"
    },
    {
     "name": "stderr",
     "output_type": "stream",
     "text": [
      "src.models.train_eval - INFO - Test Performance: \n",
      " Accuracy: 90.4%, Avg loss: 0.371458, F1 Score: 0.4791 \n",
      "\n",
      "\n",
      "src.models.train_eval - INFO - Evaluating Epoch 9 took 1.1 minutes.\n",
      "\n",
      "src.models.train_eval - INFO - Training Data Distribution: {0.0: 3262149, 1.0: 1625}\n",
      "\n",
      "src.models.train_eval - INFO - Predicted Data Distribution: {0.0: 2950954, 1.0: 312820}\n",
      "\n",
      "src.models.train_eval - INFO - Epoch 9 Metrics --\n",
      "Train Loss: 0.3652,\n",
      "Test Loss: 0.3715,\n",
      "Train Acc: 82.7%,\n",
      "Test Acc: 90.4%,\n",
      "Train F1 Score: 0.0063,\n",
      "Test F1: 0.4791,\n",
      "Test PR AUC: 0.0073\n",
      "\n",
      "\n",
      "\n",
      "src.models.train_eval - INFO - Number of batches: 1275\n",
      "\n",
      "src.models.train_eval - INFO - Batch size: 5120\n",
      "\n",
      "\n"
     ]
    },
    {
     "name": "stdout",
     "output_type": "stream",
     "text": [
      "Epoch 10/10\n",
      "-------------------------------\n",
      "Training the model...\n"
     ]
    },
    {
     "data": {
      "application/vnd.jupyter.widget-view+json": {
       "model_id": "08d82f161369477cb7591026be401665",
       "version_major": 2,
       "version_minor": 0
      },
      "text/plain": [
       "Training...:   0%|          | 0/1275 [00:00<?, ?it/s]"
      ]
     },
     "metadata": {},
     "output_type": "display_data"
    },
    {
     "name": "stdout",
     "output_type": "stream",
     "text": [
      "Loss: 0.485785  [ 5120/6527546]\n",
      "Loss: 0.555073  [655360/6527546]\n",
      "Loss: 0.487002  [1305600/6527546]\n",
      "Loss: 0.313770  [1955840/6527546]\n",
      "Loss: 0.313763  [2606080/6527546]\n",
      "Loss: 0.313757  [3256320/6527546]\n",
      "Loss: 0.313751  [3906560/6527546]\n",
      "Loss: 0.313745  [4556800/6527546]\n",
      "Loss: 0.313740  [5207040/6527546]\n",
      "Loss: 0.313734  [5857280/6527546]\n",
      "Loss: 0.313729  [6507520/6527546]\n"
     ]
    },
    {
     "name": "stderr",
     "output_type": "stream",
     "text": [
      "src.models.train_eval - INFO - \n",
      "Sum squared grads/params in Epoch 10:\n",
      "\tSum of squared gradients :    1154.5174\n",
      "\tSum of squared parameters:  104192.3259\n",
      "\n",
      "src.models.train_eval - INFO - \n",
      "Train Performance: \n",
      " Accuracy: 83.2%, Avg loss: 0.363906, F1 Score: 0.0065 \n",
      "\n",
      "\n",
      "src.models.train_eval - INFO - Training Epoch 10 took 5.1 minutes.\n",
      "\n"
     ]
    },
    {
     "name": "stdout",
     "output_type": "stream",
     "text": [
      "Evaluating the model...\n"
     ]
    },
    {
     "data": {
      "application/vnd.jupyter.widget-view+json": {
       "model_id": "1096660bd4c5462cac85b150011d1c3a",
       "version_major": 2,
       "version_minor": 0
      },
      "text/plain": [
       "Testing...:   0%|          | 0/638 [00:00<?, ?it/s]"
      ]
     },
     "metadata": {},
     "output_type": "display_data"
    },
    {
     "name": "stderr",
     "output_type": "stream",
     "text": [
      "src.models.train_eval - INFO - Test Performance: \n",
      " Accuracy: 77.6%, Avg loss: 0.373390, F1 Score: 0.4390 \n",
      "\n",
      "\n",
      "src.models.train_eval - INFO - Evaluating Epoch 10 took 0.9 minutes.\n",
      "\n",
      "src.models.train_eval - INFO - Training Data Distribution: {0.0: 3262149, 1.0: 1625}\n",
      "\n",
      "src.models.train_eval - INFO - Predicted Data Distribution: {0.0: 2530065, 1.0: 733709}\n",
      "\n",
      "src.models.train_eval - INFO - Epoch 10 Metrics --\n",
      "Train Loss: 0.3639,\n",
      "Test Loss: 0.3734,\n",
      "Train Acc: 83.2%,\n",
      "Test Acc: 77.6%,\n",
      "Train F1 Score: 0.0065,\n",
      "Test F1: 0.4390,\n",
      "Test PR AUC: 0.0070\n",
      "\n",
      "\n",
      "\n",
      "src.models.train_eval - INFO - The entire train+eval code took 72.3 minutes to run.\n",
      "\n",
      "\n",
      "\n"
     ]
    },
    {
     "ename": "ValueError",
     "evalue": "value should be one of int, float, str, bool, or torch.Tensor",
     "output_type": "error",
     "traceback": [
      "\u001b[0;31m---------------------------------------------------------------------------\u001b[0m",
      "\u001b[0;31mValueError\u001b[0m                                Traceback (most recent call last)",
      "\u001b[1;32m/Users/JawanHaider/Documents/Projects/Collaborative/Dogar/flywasp-fd/notebooks/3.0-jh-initial-rnn-exploration.ipynb Cell 28\u001b[0m line \u001b[0;36m2\n\u001b[1;32m      <a href='vscode-notebook-cell:/Users/JawanHaider/Documents/Projects/Collaborative/Dogar/flywasp-fd/notebooks/3.0-jh-initial-rnn-exploration.ipynb#X40sZmlsZQ%3D%3D?line=0'>1</a>\u001b[0m \u001b[39m# ======================== Train the RNN model ======================= #\u001b[39;00m\n\u001b[0;32m----> <a href='vscode-notebook-cell:/Users/JawanHaider/Documents/Projects/Collaborative/Dogar/flywasp-fd/notebooks/3.0-jh-initial-rnn-exploration.ipynb#X40sZmlsZQ%3D%3D?line=1'>2</a>\u001b[0m model, test_labels_and_probs \u001b[39m=\u001b[39m train_eval(\n\u001b[1;32m      <a href='vscode-notebook-cell:/Users/JawanHaider/Documents/Projects/Collaborative/Dogar/flywasp-fd/notebooks/3.0-jh-initial-rnn-exploration.ipynb#X40sZmlsZQ%3D%3D?line=2'>3</a>\u001b[0m     model,\n\u001b[1;32m      <a href='vscode-notebook-cell:/Users/JawanHaider/Documents/Projects/Collaborative/Dogar/flywasp-fd/notebooks/3.0-jh-initial-rnn-exploration.ipynb#X40sZmlsZQ%3D%3D?line=3'>4</a>\u001b[0m     train_loader,\n\u001b[1;32m      <a href='vscode-notebook-cell:/Users/JawanHaider/Documents/Projects/Collaborative/Dogar/flywasp-fd/notebooks/3.0-jh-initial-rnn-exploration.ipynb#X40sZmlsZQ%3D%3D?line=4'>5</a>\u001b[0m     test_loader,\n\u001b[1;32m      <a href='vscode-notebook-cell:/Users/JawanHaider/Documents/Projects/Collaborative/Dogar/flywasp-fd/notebooks/3.0-jh-initial-rnn-exploration.ipynb#X40sZmlsZQ%3D%3D?line=5'>6</a>\u001b[0m     criterion,\n\u001b[1;32m      <a href='vscode-notebook-cell:/Users/JawanHaider/Documents/Projects/Collaborative/Dogar/flywasp-fd/notebooks/3.0-jh-initial-rnn-exploration.ipynb#X40sZmlsZQ%3D%3D?line=6'>7</a>\u001b[0m     optimizer,\n\u001b[1;32m      <a href='vscode-notebook-cell:/Users/JawanHaider/Documents/Projects/Collaborative/Dogar/flywasp-fd/notebooks/3.0-jh-initial-rnn-exploration.ipynb#X40sZmlsZQ%3D%3D?line=7'>8</a>\u001b[0m     scheduler,\n\u001b[1;32m      <a href='vscode-notebook-cell:/Users/JawanHaider/Documents/Projects/Collaborative/Dogar/flywasp-fd/notebooks/3.0-jh-initial-rnn-exploration.ipynb#X40sZmlsZQ%3D%3D?line=8'>9</a>\u001b[0m     input_size\u001b[39m=\u001b[39;49minput_size,\n\u001b[1;32m     <a href='vscode-notebook-cell:/Users/JawanHaider/Documents/Projects/Collaborative/Dogar/flywasp-fd/notebooks/3.0-jh-initial-rnn-exploration.ipynb#X40sZmlsZQ%3D%3D?line=9'>10</a>\u001b[0m     hidden_size\u001b[39m=\u001b[39;49mhidden_size,\n\u001b[1;32m     <a href='vscode-notebook-cell:/Users/JawanHaider/Documents/Projects/Collaborative/Dogar/flywasp-fd/notebooks/3.0-jh-initial-rnn-exploration.ipynb#X40sZmlsZQ%3D%3D?line=10'>11</a>\u001b[0m     num_hidden_layers\u001b[39m=\u001b[39;49mnum_hidden_layers,\n\u001b[1;32m     <a href='vscode-notebook-cell:/Users/JawanHaider/Documents/Projects/Collaborative/Dogar/flywasp-fd/notebooks/3.0-jh-initial-rnn-exploration.ipynb#X40sZmlsZQ%3D%3D?line=11'>12</a>\u001b[0m     learning_rate\u001b[39m=\u001b[39;49mlearning_rate,\n\u001b[1;32m     <a href='vscode-notebook-cell:/Users/JawanHaider/Documents/Projects/Collaborative/Dogar/flywasp-fd/notebooks/3.0-jh-initial-rnn-exploration.ipynb#X40sZmlsZQ%3D%3D?line=12'>13</a>\u001b[0m     nonlinearity\u001b[39m=\u001b[39;49mnonlinearity,\n\u001b[1;32m     <a href='vscode-notebook-cell:/Users/JawanHaider/Documents/Projects/Collaborative/Dogar/flywasp-fd/notebooks/3.0-jh-initial-rnn-exploration.ipynb#X40sZmlsZQ%3D%3D?line=13'>14</a>\u001b[0m     batch_size\u001b[39m=\u001b[39;49mbatch_size,\n\u001b[1;32m     <a href='vscode-notebook-cell:/Users/JawanHaider/Documents/Projects/Collaborative/Dogar/flywasp-fd/notebooks/3.0-jh-initial-rnn-exploration.ipynb#X40sZmlsZQ%3D%3D?line=14'>15</a>\u001b[0m     num_epochs\u001b[39m=\u001b[39;49mnum_epochs,\n\u001b[1;32m     <a href='vscode-notebook-cell:/Users/JawanHaider/Documents/Projects/Collaborative/Dogar/flywasp-fd/notebooks/3.0-jh-initial-rnn-exploration.ipynb#X40sZmlsZQ%3D%3D?line=15'>16</a>\u001b[0m     seq_len\u001b[39m=\u001b[39;49mseq_len,\n\u001b[1;32m     <a href='vscode-notebook-cell:/Users/JawanHaider/Documents/Projects/Collaborative/Dogar/flywasp-fd/notebooks/3.0-jh-initial-rnn-exploration.ipynb#X40sZmlsZQ%3D%3D?line=16'>17</a>\u001b[0m     device\u001b[39m=\u001b[39;49mdevice,\n\u001b[1;32m     <a href='vscode-notebook-cell:/Users/JawanHaider/Documents/Projects/Collaborative/Dogar/flywasp-fd/notebooks/3.0-jh-initial-rnn-exploration.ipynb#X40sZmlsZQ%3D%3D?line=17'>18</a>\u001b[0m     prints_per_epoch\u001b[39m=\u001b[39;49mprints_per_epoch,\n\u001b[1;32m     <a href='vscode-notebook-cell:/Users/JawanHaider/Documents/Projects/Collaborative/Dogar/flywasp-fd/notebooks/3.0-jh-initial-rnn-exploration.ipynb#X40sZmlsZQ%3D%3D?line=18'>19</a>\u001b[0m )\n",
      "File \u001b[0;32m~/Documents/Projects/Collaborative/Dogar/flywasp-fd/src/models/train_eval.py:231\u001b[0m, in \u001b[0;36mtrain_eval\u001b[0;34m(model, train_loader, test_loader, criterion, optimizer, scheduler, input_size, hidden_size, num_hidden_layers, learning_rate, nonlinearity, batch_size, num_epochs, seq_len, device, prints_per_epoch)\u001b[0m\n\u001b[1;32m    211\u001b[0m hparams \u001b[39m=\u001b[39m {\n\u001b[1;32m    212\u001b[0m     \u001b[39m\"\u001b[39m\u001b[39mseq_len\u001b[39m\u001b[39m\"\u001b[39m: seq_len,\n\u001b[1;32m    213\u001b[0m     \u001b[39m\"\u001b[39m\u001b[39minput_size\u001b[39m\u001b[39m\"\u001b[39m: input_size,\n\u001b[0;32m   (...)\u001b[0m\n\u001b[1;32m    220\u001b[0m     \u001b[39m\"\u001b[39m\u001b[39mdevice\u001b[39m\u001b[39m\"\u001b[39m: device,\n\u001b[1;32m    221\u001b[0m }  \u001b[39m# Define the hyperparameters to track\u001b[39;00m\n\u001b[1;32m    222\u001b[0m hparam_metrics \u001b[39m=\u001b[39m {\n\u001b[1;32m    223\u001b[0m     \u001b[39m\"\u001b[39m\u001b[39mhparam/Accuracy/train\u001b[39m\u001b[39m\"\u001b[39m: train_acc,\n\u001b[1;32m    224\u001b[0m     \u001b[39m\"\u001b[39m\u001b[39mhparam/Accuracy/test\u001b[39m\u001b[39m\"\u001b[39m: test_acc,\n\u001b[0;32m   (...)\u001b[0m\n\u001b[1;32m    229\u001b[0m     \u001b[39m\"\u001b[39m\u001b[39mhparam/Precision-Recall AUC/test\u001b[39m\u001b[39m\"\u001b[39m: test_pr_auc,\n\u001b[1;32m    230\u001b[0m }  \u001b[39m# define the metrics to track with the hyperparameters\u001b[39;00m\n\u001b[0;32m--> 231\u001b[0m writer\u001b[39m.\u001b[39;49madd_hparams(hparams, hparam_metrics)  \u001b[39m# log hparams & metrics\u001b[39;00m\n\u001b[1;32m    232\u001b[0m \u001b[39m# ---------------------------------------------------------------- #\u001b[39;00m\n\u001b[1;32m    233\u001b[0m \u001b[39m# Flush SummaryWriter to ensure metrics are written to disk\u001b[39;00m\n\u001b[1;32m    234\u001b[0m writer\u001b[39m.\u001b[39mflush()\n",
      "File \u001b[0;32m~/opt/anaconda3/envs/fd_flywasp/lib/python3.11/site-packages/torch/utils/tensorboard/writer.py:332\u001b[0m, in \u001b[0;36mSummaryWriter.add_hparams\u001b[0;34m(self, hparam_dict, metric_dict, hparam_domain_discrete, run_name)\u001b[0m\n\u001b[1;32m    330\u001b[0m \u001b[39mif\u001b[39;00m \u001b[39mtype\u001b[39m(hparam_dict) \u001b[39mis\u001b[39;00m \u001b[39mnot\u001b[39;00m \u001b[39mdict\u001b[39m \u001b[39mor\u001b[39;00m \u001b[39mtype\u001b[39m(metric_dict) \u001b[39mis\u001b[39;00m \u001b[39mnot\u001b[39;00m \u001b[39mdict\u001b[39m:\n\u001b[1;32m    331\u001b[0m     \u001b[39mraise\u001b[39;00m \u001b[39mTypeError\u001b[39;00m(\u001b[39m\"\u001b[39m\u001b[39mhparam_dict and metric_dict should be dictionary.\u001b[39m\u001b[39m\"\u001b[39m)\n\u001b[0;32m--> 332\u001b[0m exp, ssi, sei \u001b[39m=\u001b[39m hparams(hparam_dict, metric_dict, hparam_domain_discrete)\n\u001b[1;32m    334\u001b[0m \u001b[39mif\u001b[39;00m \u001b[39mnot\u001b[39;00m run_name:\n\u001b[1;32m    335\u001b[0m     run_name \u001b[39m=\u001b[39m \u001b[39mstr\u001b[39m(time\u001b[39m.\u001b[39mtime())\n",
      "File \u001b[0;32m~/opt/anaconda3/envs/fd_flywasp/lib/python3.11/site-packages/torch/utils/tensorboard/summary.py:281\u001b[0m, in \u001b[0;36mhparams\u001b[0;34m(hparam_dict, metric_dict, hparam_domain_discrete)\u001b[0m\n\u001b[1;32m    279\u001b[0m         hps\u001b[39m.\u001b[39mappend(HParamInfo(name\u001b[39m=\u001b[39mk, \u001b[39mtype\u001b[39m\u001b[39m=\u001b[39mDataType\u001b[39m.\u001b[39mValue(\u001b[39m\"\u001b[39m\u001b[39mDATA_TYPE_FLOAT64\u001b[39m\u001b[39m\"\u001b[39m)))\n\u001b[1;32m    280\u001b[0m         \u001b[39mcontinue\u001b[39;00m\n\u001b[0;32m--> 281\u001b[0m     \u001b[39mraise\u001b[39;00m \u001b[39mValueError\u001b[39;00m(\n\u001b[1;32m    282\u001b[0m         \u001b[39m\"\u001b[39m\u001b[39mvalue should be one of int, float, str, bool, or torch.Tensor\u001b[39m\u001b[39m\"\u001b[39m\n\u001b[1;32m    283\u001b[0m     )\n\u001b[1;32m    285\u001b[0m content \u001b[39m=\u001b[39m HParamsPluginData(session_start_info\u001b[39m=\u001b[39mssi, version\u001b[39m=\u001b[39mPLUGIN_DATA_VERSION)\n\u001b[1;32m    286\u001b[0m smd \u001b[39m=\u001b[39m SummaryMetadata(\n\u001b[1;32m    287\u001b[0m     plugin_data\u001b[39m=\u001b[39mSummaryMetadata\u001b[39m.\u001b[39mPluginData(\n\u001b[1;32m    288\u001b[0m         plugin_name\u001b[39m=\u001b[39mPLUGIN_NAME, content\u001b[39m=\u001b[39mcontent\u001b[39m.\u001b[39mSerializeToString()\n\u001b[1;32m    289\u001b[0m     )\n\u001b[1;32m    290\u001b[0m )\n",
      "\u001b[0;31mValueError\u001b[0m: value should be one of int, float, str, bool, or torch.Tensor"
     ]
    }
   ],
   "source": [
    "# ======================== Train the RNN model ======================= #\n",
    "model, test_labels_and_probs = train_eval(\n",
    "    model,\n",
    "    train_loader,\n",
    "    test_loader,\n",
    "    criterion,\n",
    "    optimizer,\n",
    "    scheduler,\n",
    "    input_size=input_size,\n",
    "    hidden_size=hidden_size,\n",
    "    num_hidden_layers=num_hidden_layers,\n",
    "    learning_rate=learning_rate,\n",
    "    nonlinearity=nonlinearity,\n",
    "    batch_size=batch_size,\n",
    "    num_epochs=num_epochs,\n",
    "    seq_len=seq_len,\n",
    "    device=device,\n",
    "    prints_per_epoch=prints_per_epoch,\n",
    ")\n"
   ]
  },
  {
   "cell_type": "markdown",
   "metadata": {},
   "source": [
    "### Model Evaluation, Visualization, and Analysis"
   ]
  },
  {
   "cell_type": "code",
   "execution_count": null,
   "metadata": {},
   "outputs": [],
   "source": [
    "test_indices = rnn_data_preparer.test_indices\n",
    "# print(test_indices)\n",
    "print(f\"Test indices shape: {test_indices.shape}\")\n"
   ]
  },
  {
   "cell_type": "code",
   "execution_count": null,
   "metadata": {},
   "outputs": [],
   "source": [
    "print(\n",
    "    f\"test_true_labels shape: {test_labels_and_probs[0].shape}, \\ntest_pred_labels shape: {test_labels_and_probs[1].shape}, \\ntest_pred_probs shape: {test_labels_and_probs[2].shape}\\n\"\n",
    ")\n",
    "print(f\"df shape: {df.shape}\")\n"
   ]
  },
  {
   "cell_type": "code",
   "execution_count": null,
   "metadata": {},
   "outputs": [],
   "source": [
    "plot_df, mean_df = plot_predicted_probabilities(\n",
    "    df, test_indices, test_labels_and_probs\n",
    ")\n"
   ]
  },
  {
   "cell_type": "markdown",
   "metadata": {},
   "source": [
    "### Save model and config"
   ]
  },
  {
   "cell_type": "code",
   "execution_count": null,
   "metadata": {},
   "outputs": [],
   "source": [
    "# # Create the model name\n",
    "# model_architecture = \"rnn\"\n",
    "# # get the raw data id, in this case 'ff-mw'\n",
    "# raw_data_id = preprocessor.raw_data_id\n",
    "# version_number = 1\n",
    "# model_name = f\"{model_architecture}_{raw_data_id}_v{version_number}\"\n",
    "\n",
    "# # Define/get config details\n",
    "# rnn_timestamp = model.timestamp\n",
    "\n",
    "# # Create the configuration dictionary\n",
    "# model_config = create_config_dict(\n",
    "#     model_name=f\"{rnn_timestamp}_{model_name}\",\n",
    "#     input_size=input_size,\n",
    "#     hidden_size=hidden_size,\n",
    "#     output_size=output_size,\n",
    "#     num_epochs=num_epochs,\n",
    "#     batch_size=batch_size,\n",
    "#     learning_rate=learning_rate,\n",
    "#     raw_data_path=ff_mw_raw_data,\n",
    "#     processed_data_path=processed_data_file,\n",
    "#     logging_level=\"DEBUG\",\n",
    "#     logging_format=\"%(asctime)s - %(levelname)s - %(module)s - %(message)s\",\n",
    "# )\n",
    "\n",
    "# # Save the trained model and configuration settings\n",
    "# model_dir = Path(f\"models/{model_name}\")\n",
    "# model_dir.mkdir(parents=True, exist_ok=True)\n",
    "# config_dir = Path(f\"config/{model_name}\")\n",
    "# config_dir.mkdir(parents=True, exist_ok=True)\n",
    "# saved_model_file, saved_config_file = data_saver.save_model_and_config(\n",
    "#     model,\n",
    "#     model_name,\n",
    "#     model_config,\n",
    "#     model_dir,\n",
    "#     config_dir,\n",
    "# )\n"
   ]
  },
  {
   "cell_type": "markdown",
   "metadata": {},
   "source": [
    "## Old/Extra/Misc. Code Below"
   ]
  },
  {
   "cell_type": "code",
   "execution_count": null,
   "metadata": {},
   "outputs": [],
   "source": [
    "# from sklearn.metrics import f1_score\n",
    "# from torch.utils.data import DataLoader, Dataset\n",
    "# import torch.nn as nn\n",
    "# # Initialize a new model\n",
    "# input_size = X_test.shape[2]  # Make sure this is correct\n",
    "# hidden_size = 64\n",
    "# output_size = 2\n",
    "# device = torch.device('cuda' if torch.cuda.is_available() else 'cpu')\n",
    "\n",
    "# new_model = rnn_model.RNN(input_size=input_size, hidden_size=hidden_size, output_size=output_size, batch_first=True).to(device)\n",
    "\n",
    "# # Load the model\n",
    "# model_path = \"models/rnn_ff-mw_v1/20231020_1701_model_2c92c2793be07eaf3765665d6287ded4_971fce5d8c82c2d1bf8db68939c8162d.pt\"\n",
    "# state_dict = torch.load(model_path)\n",
    "# new_model.load_state_dict(state_dict)\n",
    "# # loaded_model = torch.load(model_path)\n",
    "# new_model.eval()  # Set the model to evaluation mode\n",
    "\n",
    "# def evaluate_f1(model, X_test, Y_test, batch_size, device):\n",
    "#     test_dataset = rnn_model.WalkDataset(X_test, Y_test)\n",
    "#     test_loader = DataLoader(test_dataset, batch_size=batch_size, shuffle=False)\n",
    "#     model.eval()\n",
    "\n",
    "#     # Initialize running loss & sum of squared gradients and parameters\n",
    "#     running_loss = 0.0\n",
    "#     correct = 0\n",
    "#     total = 0\n",
    "\n",
    "#     y_true = []\n",
    "#     y_pred = []\n",
    "\n",
    "#     with torch.no_grad():\n",
    "#         for i, (inputs, labels) in enumerate(test_loader):\n",
    "#             inputs, labels = inputs.to(device), labels.to(device)\n",
    "#             outputs = model(inputs)\n",
    "#             # Using CrossEntropyLoss as the loss function\n",
    "#             criterion = nn.CrossEntropyLoss()\n",
    "#             loss = criterion(outputs, labels)  # Compute loss\n",
    "#             running_loss += loss.item()  # Accumulate loss\n",
    "#             _, predicted = torch.max(outputs.data, 1)\n",
    "#             total += labels.size(0)  # Accumulate total number of samples\n",
    "#             correct += (predicted == labels).sum().item()\n",
    "#             y_true.extend(labels.cpu().numpy().tolist())\n",
    "#             y_pred.extend(predicted.cpu().numpy().tolist())\n",
    "\n",
    "#     # Calculate average loss and accuracy over all batches\n",
    "#     test_loss = running_loss / len(test_loader)\n",
    "#     test_acc = correct / total\n",
    "\n",
    "#     print(\n",
    "#         f\"Test Error: \\n Accuracy: {(100*test_acc):>0.1f}%, Avg loss: {test_loss:>8f} \\n\")\n",
    "\n",
    "#     f1 = f1_score(y_true, y_pred)  # You can change the \"average\" parameter to suit your needs\n",
    "\n",
    "#     return f1\n",
    "\n",
    "# # Make sure you load your saved model into the variable `loaded_model`\n",
    "# # Also, ensure X_test, Y_test, batch_size and device are set\n",
    "\n",
    "# f1 = evaluate_f1(new_model, X_test, Y_test, batch_size, device)\n",
    "# print(f\"F1 Score: {f1}\")\n"
   ]
  },
  {
   "cell_type": "code",
   "execution_count": null,
   "metadata": {},
   "outputs": [],
   "source": []
  }
 ],
 "metadata": {
  "kernelspec": {
   "display_name": "fd_flywasp",
   "language": "python",
   "name": "python3"
  },
  "language_info": {
   "codemirror_mode": {
    "name": "ipython",
    "version": 3
   },
   "file_extension": ".py",
   "mimetype": "text/x-python",
   "name": "python",
   "nbconvert_exporter": "python",
   "pygments_lexer": "ipython3",
   "version": "3.11.6"
  }
 },
 "nbformat": 4,
 "nbformat_minor": 2
}
