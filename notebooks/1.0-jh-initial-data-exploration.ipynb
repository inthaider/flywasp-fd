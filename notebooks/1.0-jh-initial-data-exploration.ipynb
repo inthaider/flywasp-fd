{
 "cells": [
  {
   "cell_type": "markdown",
   "metadata": {},
   "source": [
    "# Playing Around..."
   ]
  },
  {
   "cell_type": "markdown",
   "metadata": {},
   "source": [
    "### WeTransfer download link:\n",
    "*https://wetransfer.com/downloads/72619a02a0250f28c7d507d98a513b3520231014201152/898b33b5b0f0be38cb6328f4271c5ac920231014201209/c1f7a2*"
   ]
  },
  {
   "cell_type": "code",
   "execution_count": 1,
   "metadata": {},
   "outputs": [],
   "source": [
    "import pandas as pd\n",
    "import numpy as np\n",
    "import matplotlib.pyplot as plt\n",
    "# import seaborn as sns"
   ]
  },
  {
   "cell_type": "code",
   "execution_count": 2,
   "metadata": {},
   "outputs": [],
   "source": [
    "# First initialize a variable to hold the dataframe path (relative to the VSCode workspace): \n",
    "# /data/ff-mw.pkl, where data is a folder in the root directory so need to go up one level\n",
    "df_path = '../data/ff-mw.pkl'\n",
    "\n",
    "# Load in the dataframe with relative file path: data/ff-mw.pkl\n",
    "df = pd.read_pickle(df_path)\n",
    "\n",
    "# Drop the plot column\n",
    "df = df.drop('plot', axis = 1)\n",
    "\n",
    "# Get the column names\n",
    "cols = df.columns.tolist()\n",
    "\n",
    "# Rearrange the column names\n",
    "cols.insert(cols.index('F2Wdis') + 1, cols.pop(cols.index('F2Wdis_rate')))\n",
    "# cols.pop does the following:\n",
    "# cols.index('F2Wdis') returns the index of 'F2Wdis' in the list cols\n",
    "# cols.pop(cols.index('F2Wdis')) pops the element at the index of 'F2Wdis' in the list cols\n",
    "# cols.insert(cols.index('F2Wdis') + 1, cols.pop(cols.index('F2Wdis'))) inserts the element at the index of 'F2Wdis' + 1 in the list cols\n",
    "\n",
    "# Reindex the DataFrame with the new column order\n",
    "df = df[cols]\n",
    "\n",
    "# Calculating the mean of the 'ANTdis_1', 'ANTdis_2 vars\n",
    "# Each wasp has two antennas, and ANTdis_x is the displacement between the two antennas \n",
    "# 'ANTdis_1' \n",
    "df['ANTdis'] = df[['ANTdis_1', 'ANTdis_2']].mean(axis=1)\n",
    "\n",
    "## Adding the label\n",
    "# create new variable 'start_walk'\n",
    "df['start_walk'] = ((df['walk_backwards'] == 1) & (df['walk_backwards'].shift(1) == 0)).astype(int)"
   ]
  },
  {
   "cell_type": "code",
   "execution_count": 3,
   "metadata": {},
   "outputs": [
    {
     "data": {
      "text/html": [
       "<div>\n",
       "<style scoped>\n",
       "    .dataframe tbody tr th:only-of-type {\n",
       "        vertical-align: middle;\n",
       "    }\n",
       "\n",
       "    .dataframe tbody tr th {\n",
       "        vertical-align: top;\n",
       "    }\n",
       "\n",
       "    .dataframe thead th {\n",
       "        text-align: right;\n",
       "    }\n",
       "</style>\n",
       "<table border=\"1\" class=\"dataframe\">\n",
       "  <thead>\n",
       "    <tr style=\"text-align: right;\">\n",
       "      <th></th>\n",
       "      <th>Frame</th>\n",
       "      <th>WCin</th>\n",
       "      <th>WHin</th>\n",
       "      <th>Fdis</th>\n",
       "      <th>FdisF</th>\n",
       "      <th>FdisL</th>\n",
       "      <th>Wdis</th>\n",
       "      <th>WdisF</th>\n",
       "      <th>WdisL</th>\n",
       "      <th>Fangle</th>\n",
       "      <th>...</th>\n",
       "      <th>F2W_blob_dis</th>\n",
       "      <th>bp_F_delta</th>\n",
       "      <th>bp_W_delta</th>\n",
       "      <th>ap_F_delta</th>\n",
       "      <th>ap_W_delta</th>\n",
       "      <th>ant_W_delta</th>\n",
       "      <th>file</th>\n",
       "      <th>walk_backwards</th>\n",
       "      <th>ANTdis</th>\n",
       "      <th>start_walk</th>\n",
       "    </tr>\n",
       "  </thead>\n",
       "  <tbody>\n",
       "    <tr>\n",
       "      <th>328</th>\n",
       "      <td>329</td>\n",
       "      <td>1</td>\n",
       "      <td>1</td>\n",
       "      <td>647.424377</td>\n",
       "      <td>259.817659</td>\n",
       "      <td>593.003464</td>\n",
       "      <td>376.272052</td>\n",
       "      <td>80.299278</td>\n",
       "      <td>642.425365</td>\n",
       "      <td>2.233504</td>\n",
       "      <td>...</td>\n",
       "      <td>126.063476</td>\n",
       "      <td>inf</td>\n",
       "      <td>inf</td>\n",
       "      <td>inf</td>\n",
       "      <td>inf</td>\n",
       "      <td>inf</td>\n",
       "      <td>D230430_G01_R23_L02_ani.mat</td>\n",
       "      <td>0</td>\n",
       "      <td>310.479099</td>\n",
       "      <td>0</td>\n",
       "    </tr>\n",
       "    <tr>\n",
       "      <th>329</th>\n",
       "      <td>330</td>\n",
       "      <td>1</td>\n",
       "      <td>1</td>\n",
       "      <td>650.029331</td>\n",
       "      <td>256.529583</td>\n",
       "      <td>597.269373</td>\n",
       "      <td>376.268859</td>\n",
       "      <td>82.118727</td>\n",
       "      <td>644.821406</td>\n",
       "      <td>11.022451</td>\n",
       "      <td>...</td>\n",
       "      <td>142.593829</td>\n",
       "      <td>inf</td>\n",
       "      <td>inf</td>\n",
       "      <td>inf</td>\n",
       "      <td>inf</td>\n",
       "      <td>inf</td>\n",
       "      <td>D230430_G01_R23_L02_ani.mat</td>\n",
       "      <td>0</td>\n",
       "      <td>309.159513</td>\n",
       "      <td>0</td>\n",
       "    </tr>\n",
       "    <tr>\n",
       "      <th>330</th>\n",
       "      <td>331</td>\n",
       "      <td>1</td>\n",
       "      <td>1</td>\n",
       "      <td>657.561629</td>\n",
       "      <td>258.390046</td>\n",
       "      <td>604.666751</td>\n",
       "      <td>373.864427</td>\n",
       "      <td>84.827768</td>\n",
       "      <td>652.067133</td>\n",
       "      <td>22.131592</td>\n",
       "      <td>...</td>\n",
       "      <td>151.029798</td>\n",
       "      <td>inf</td>\n",
       "      <td>inf</td>\n",
       "      <td>inf</td>\n",
       "      <td>inf</td>\n",
       "      <td>inf</td>\n",
       "      <td>D230430_G01_R23_L02_ani.mat</td>\n",
       "      <td>0</td>\n",
       "      <td>308.368251</td>\n",
       "      <td>0</td>\n",
       "    </tr>\n",
       "    <tr>\n",
       "      <th>331</th>\n",
       "      <td>332</td>\n",
       "      <td>1</td>\n",
       "      <td>1</td>\n",
       "      <td>663.569755</td>\n",
       "      <td>265.404763</td>\n",
       "      <td>608.181824</td>\n",
       "      <td>372.052409</td>\n",
       "      <td>84.355983</td>\n",
       "      <td>658.186059</td>\n",
       "      <td>22.377265</td>\n",
       "      <td>...</td>\n",
       "      <td>154.000000</td>\n",
       "      <td>inf</td>\n",
       "      <td>inf</td>\n",
       "      <td>inf</td>\n",
       "      <td>inf</td>\n",
       "      <td>inf</td>\n",
       "      <td>D230430_G01_R23_L02_ani.mat</td>\n",
       "      <td>0</td>\n",
       "      <td>304.856487</td>\n",
       "      <td>0</td>\n",
       "    </tr>\n",
       "    <tr>\n",
       "      <th>332</th>\n",
       "      <td>333</td>\n",
       "      <td>1</td>\n",
       "      <td>1</td>\n",
       "      <td>659.618369</td>\n",
       "      <td>262.884849</td>\n",
       "      <td>604.969378</td>\n",
       "      <td>371.772426</td>\n",
       "      <td>80.206714</td>\n",
       "      <td>654.723816</td>\n",
       "      <td>0.900096</td>\n",
       "      <td>...</td>\n",
       "      <td>154.029218</td>\n",
       "      <td>inf</td>\n",
       "      <td>inf</td>\n",
       "      <td>inf</td>\n",
       "      <td>inf</td>\n",
       "      <td>inf</td>\n",
       "      <td>D230430_G01_R23_L02_ani.mat</td>\n",
       "      <td>0</td>\n",
       "      <td>306.651652</td>\n",
       "      <td>0</td>\n",
       "    </tr>\n",
       "  </tbody>\n",
       "</table>\n",
       "<p>5 rows × 27 columns</p>\n",
       "</div>"
      ],
      "text/plain": [
       "     Frame  WCin  WHin        Fdis       FdisF       FdisL        Wdis  \\\n",
       "328    329     1     1  647.424377  259.817659  593.003464  376.272052   \n",
       "329    330     1     1  650.029331  256.529583  597.269373  376.268859   \n",
       "330    331     1     1  657.561629  258.390046  604.666751  373.864427   \n",
       "331    332     1     1  663.569755  265.404763  608.181824  372.052409   \n",
       "332    333     1     1  659.618369  262.884849  604.969378  371.772426   \n",
       "\n",
       "         WdisF       WdisL     Fangle  ...  F2W_blob_dis  bp_F_delta  \\\n",
       "328  80.299278  642.425365   2.233504  ...    126.063476         inf   \n",
       "329  82.118727  644.821406  11.022451  ...    142.593829         inf   \n",
       "330  84.827768  652.067133  22.131592  ...    151.029798         inf   \n",
       "331  84.355983  658.186059  22.377265  ...    154.000000         inf   \n",
       "332  80.206714  654.723816   0.900096  ...    154.029218         inf   \n",
       "\n",
       "     bp_W_delta  ap_F_delta  ap_W_delta  ant_W_delta  \\\n",
       "328         inf         inf         inf          inf   \n",
       "329         inf         inf         inf          inf   \n",
       "330         inf         inf         inf          inf   \n",
       "331         inf         inf         inf          inf   \n",
       "332         inf         inf         inf          inf   \n",
       "\n",
       "                            file  walk_backwards      ANTdis  start_walk  \n",
       "328  D230430_G01_R23_L02_ani.mat               0  310.479099           0  \n",
       "329  D230430_G01_R23_L02_ani.mat               0  309.159513           0  \n",
       "330  D230430_G01_R23_L02_ani.mat               0  308.368251           0  \n",
       "331  D230430_G01_R23_L02_ani.mat               0  304.856487           0  \n",
       "332  D230430_G01_R23_L02_ani.mat               0  306.651652           0  \n",
       "\n",
       "[5 rows x 27 columns]"
      ]
     },
     "execution_count": 3,
     "metadata": {},
     "output_type": "execute_result"
    }
   ],
   "source": [
    "df.head()"
   ]
  },
  {
   "cell_type": "code",
   "execution_count": 9,
   "metadata": {},
   "outputs": [
    {
     "data": {
      "text/plain": [
       "136"
      ]
     },
     "execution_count": 9,
     "metadata": {},
     "output_type": "execute_result"
    }
   ],
   "source": [
    "len(df['file'].value_counts())"
   ]
  },
  {
   "cell_type": "code",
   "execution_count": 10,
   "metadata": {},
   "outputs": [
    {
     "data": {
      "text/plain": [
       "start_walk\n",
       "0    9784682\n",
       "1       7318\n",
       "Name: count, dtype: int64"
      ]
     },
     "execution_count": 10,
     "metadata": {},
     "output_type": "execute_result"
    }
   ],
   "source": [
    "df['start_walk'].value_counts()"
   ]
  },
  {
   "cell_type": "code",
   "execution_count": 12,
   "metadata": {},
   "outputs": [
    {
     "data": {
      "image/png": "[encoded data removed]",
      "text/plain": [
       "<Figure size 640x480 with 1 Axes>"
      ]
     },
     "metadata": {},
     "output_type": "display_data"
    }
   ],
   "source": [
    "df.groupby('start_walk')['ANTdis'].plot(kind='hist', alpha=0.5, legend=True, density=True)\n",
    "plt.xlabel('ANTdis')\n",
    "plt.title('Distribution of ANTdis grouped by start_walk')\n",
    "plt.show()\n"
   ]
  },
  {
   "cell_type": "code",
   "execution_count": null,
   "metadata": {},
   "outputs": [],
   "source": []
  }
 ],
 "metadata": {
  "kernelspec": {
   "display_name": "fd_flywasp",
   "language": "python",
   "name": "python3"
  },
  "language_info": {
   "codemirror_mode": {
    "name": "ipython",
    "version": 3
   },
   "file_extension": ".py",
   "mimetype": "text/x-python",
   "name": "python",
   "nbconvert_exporter": "python",
   "pygments_lexer": "ipython3",
   "version": "3.11.0"
  }
 },
 "nbformat": 4,
 "nbformat_minor": 2
}
