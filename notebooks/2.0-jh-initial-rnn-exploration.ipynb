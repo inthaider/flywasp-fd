{
 "cells": [
  {
   "cell_type": "code",
   "execution_count": 8,
   "metadata": {},
   "outputs": [],
   "source": [
    "# Load packages\n",
    "import pandas as pd\n",
    "import numpy as np\n",
    "from sklearn.model_selection import train_test_split\n",
    "import warnings\n",
    "import matplotlib.pyplot as plt\n",
    "from sklearn.preprocessing import StandardScaler\n",
    "import scipy.stats as stats\n",
    "# from docx import Document\n",
    "# from docx.shared import Inches\n",
    "from datetime import datetime\n",
    "import time\n"
   ]
  },
  {
   "cell_type": "code",
   "execution_count": 9,
   "metadata": {},
   "outputs": [],
   "source": [
    "# Load in the dataframe\n",
    "pickle_path = \"../data/interim/\"\n",
    "# And you can read it back into memory like this:\n",
    "df = pd.read_pickle(pickle_path + 'ff-mw.pkl')\n",
    "\n",
    "df = df.drop('plot', axis=1)\n",
    "\n",
    "cols = df.columns.tolist()\n",
    "\n",
    "# Reindex the DataFrame with the new column order\n",
    "df = df[cols]\n",
    "\n",
    "# Calculating the mean of the 'ANTdis_1', 'ANTdis_2 vars\n",
    "df['ANTdis'] = df[['ANTdis_1', 'ANTdis_2']].mean(axis=1)\n",
    "\n",
    "# Adding the label\n",
    "# create new variable 'start_walk'\n",
    "df['start_walk'] = ((df['walk_backwards'] == 1) & (\n",
    "    df['walk_backwards'].shift(1) == 0)).astype(int)\n",
    "\n",
    "# Rearrange the column names\n",
    "cols.insert(cols.index('F2Wdis') + 1, cols.pop(cols.index('F2Wdis_rate')))\n",
    "\n",
    "# Only keeping in the relevant variables\n",
    "\n",
    "df = df[['Frame', 'Fdis', 'FdisF', 'FdisL', 'Wdis', 'WdisF',\n",
    "         'WdisL', 'Fangle', 'Wangle', 'F2Wdis', 'F2Wdis_rate', 'F2Wangle',\n",
    "         'W2Fangle', 'ANTdis', 'F2W_blob_dis', 'bp_F_delta',\n",
    "         'bp_W_delta', 'ap_F_delta', 'ap_W_delta', 'ant_W_delta', 'file', 'start_walk']]\n"
   ]
  },
  {
   "cell_type": "code",
   "execution_count": 10,
   "metadata": {},
   "outputs": [],
   "source": [
    "#################\n",
    "# Preprocessing #\n",
    "#################\n",
    "\n",
    "# Replacing infinity values with nan\n",
    "from sklearn.preprocessing import StandardScaler\n",
    "import numpy as np\n",
    "import pandas as pd\n",
    "df = df.replace([np.inf, -np.inf], np.nan)\n",
    "\n",
    "\n",
    "# Assuming df is already loaded\n",
    "# If not, uncomment the line below\n",
    "# df = pd.read_csv('your_data.csv')\n",
    "\n",
    "# Standardize the data\n",
    "columns_to_scale = ['Fdis', 'FdisF', 'FdisL', 'Wdis', 'WdisF', 'WdisL', 'Fangle',\n",
    "                    'Wangle', 'F2Wdis', 'F2Wdis_rate', 'F2Wangle', 'W2Fangle',\n",
    "                    'ANTdis', 'F2W_blob_dis', 'bp_F_delta', 'bp_W_delta', 'ap_F_delta',\n",
    "                    'ap_W_delta', 'ant_W_delta']\n",
    "\n",
    "scaler = StandardScaler()\n",
    "df[columns_to_scale] = scaler.fit_transform(df[columns_to_scale])\n"
   ]
  },
  {
   "cell_type": "code",
   "execution_count": 23,
   "metadata": {},
   "outputs": [],
   "source": [
    "# Reshape data into sequences\n",
    "def create_sequences(data, sequence_length=3):\n",
    "    x, y = [], []\n",
    "    for i in range(len(data) - sequence_length):\n",
    "        # does iloc include the last index?\n",
    "        # Answer: No, it does not\n",
    "        x.append(data.iloc[i:i+sequence_length].values)\n",
    "        y.append(data.iloc[i+sequence_length]['start_walk'])\n",
    "        # We want y to be the \"target/output\" row/observation in our data,\n",
    "        # so it needs to NOT be overlapping with the rows appended to 'x' using iloc\n",
    "        # and needs to be the very NEXT row/observation.\n",
    "    return np.array(x), np.array(y)\n",
    "\n"
   ]
  },
  {
   "cell_type": "code",
   "execution_count": 24,
   "metadata": {},
   "outputs": [
    {
     "ename": "KeyboardInterrupt",
     "evalue": "",
     "output_type": "error",
     "traceback": [
      "\u001b[0;31m---------------------------------------------------------------------------\u001b[0m",
      "\u001b[0;31mKeyboardInterrupt\u001b[0m                         Traceback (most recent call last)",
      "\u001b[1;32m/Users/JawanHaider/Documents/Projects/Collaborative/Dogar/flywasp-fd/notebooks/2.0-jh-initial-rnn-exploration.ipynb Cell 5\u001b[0m line \u001b[0;36m9\n\u001b[1;32m      <a href='vscode-notebook-cell:/Users/JawanHaider/Documents/Projects/Collaborative/Dogar/flywasp-fd/notebooks/2.0-jh-initial-rnn-exploration.ipynb#X10sZmlsZQ%3D%3D?line=5'>6</a>\u001b[0m file_data \u001b[39m=\u001b[39m df[df[\u001b[39m'\u001b[39m\u001b[39mfile\u001b[39m\u001b[39m'\u001b[39m] \u001b[39m==\u001b[39m file]\u001b[39m.\u001b[39mdrop([\u001b[39m'\u001b[39m\u001b[39mFrame\u001b[39m\u001b[39m'\u001b[39m, \u001b[39m'\u001b[39m\u001b[39mfile\u001b[39m\u001b[39m'\u001b[39m], axis\u001b[39m=\u001b[39m\u001b[39m1\u001b[39m)\n\u001b[1;32m      <a href='vscode-notebook-cell:/Users/JawanHaider/Documents/Projects/Collaborative/Dogar/flywasp-fd/notebooks/2.0-jh-initial-rnn-exploration.ipynb#X10sZmlsZQ%3D%3D?line=7'>8</a>\u001b[0m \u001b[39m# Create sequences for each file\u001b[39;00m\n\u001b[0;32m----> <a href='vscode-notebook-cell:/Users/JawanHaider/Documents/Projects/Collaborative/Dogar/flywasp-fd/notebooks/2.0-jh-initial-rnn-exploration.ipynb#X10sZmlsZQ%3D%3D?line=8'>9</a>\u001b[0m x, y \u001b[39m=\u001b[39m create_sequences(file_data)\n\u001b[1;32m     <a href='vscode-notebook-cell:/Users/JawanHaider/Documents/Projects/Collaborative/Dogar/flywasp-fd/notebooks/2.0-jh-initial-rnn-exploration.ipynb#X10sZmlsZQ%3D%3D?line=10'>11</a>\u001b[0m \u001b[39m# Calculate the split index\u001b[39;00m\n\u001b[1;32m     <a href='vscode-notebook-cell:/Users/JawanHaider/Documents/Projects/Collaborative/Dogar/flywasp-fd/notebooks/2.0-jh-initial-rnn-exploration.ipynb#X10sZmlsZQ%3D%3D?line=11'>12</a>\u001b[0m train_size \u001b[39m=\u001b[39m \u001b[39mint\u001b[39m(\u001b[39mlen\u001b[39m(x) \u001b[39m*\u001b[39m \u001b[39m2\u001b[39m\u001b[39m/\u001b[39m\u001b[39m3\u001b[39m)\n",
      "\u001b[1;32m/Users/JawanHaider/Documents/Projects/Collaborative/Dogar/flywasp-fd/notebooks/2.0-jh-initial-rnn-exploration.ipynb Cell 5\u001b[0m line \u001b[0;36m8\n\u001b[1;32m      <a href='vscode-notebook-cell:/Users/JawanHaider/Documents/Projects/Collaborative/Dogar/flywasp-fd/notebooks/2.0-jh-initial-rnn-exploration.ipynb#X10sZmlsZQ%3D%3D?line=3'>4</a>\u001b[0m \u001b[39mfor\u001b[39;00m i \u001b[39min\u001b[39;00m \u001b[39mrange\u001b[39m(\u001b[39mlen\u001b[39m(data) \u001b[39m-\u001b[39m sequence_length):\n\u001b[1;32m      <a href='vscode-notebook-cell:/Users/JawanHaider/Documents/Projects/Collaborative/Dogar/flywasp-fd/notebooks/2.0-jh-initial-rnn-exploration.ipynb#X10sZmlsZQ%3D%3D?line=4'>5</a>\u001b[0m     \u001b[39m# does iloc include the last index?\u001b[39;00m\n\u001b[1;32m      <a href='vscode-notebook-cell:/Users/JawanHaider/Documents/Projects/Collaborative/Dogar/flywasp-fd/notebooks/2.0-jh-initial-rnn-exploration.ipynb#X10sZmlsZQ%3D%3D?line=5'>6</a>\u001b[0m     \u001b[39m# Answer: No, it does not\u001b[39;00m\n\u001b[1;32m      <a href='vscode-notebook-cell:/Users/JawanHaider/Documents/Projects/Collaborative/Dogar/flywasp-fd/notebooks/2.0-jh-initial-rnn-exploration.ipynb#X10sZmlsZQ%3D%3D?line=6'>7</a>\u001b[0m     x\u001b[39m.\u001b[39mappend(data\u001b[39m.\u001b[39miloc[i:i\u001b[39m+\u001b[39msequence_length]\u001b[39m.\u001b[39mvalues)\n\u001b[0;32m----> <a href='vscode-notebook-cell:/Users/JawanHaider/Documents/Projects/Collaborative/Dogar/flywasp-fd/notebooks/2.0-jh-initial-rnn-exploration.ipynb#X10sZmlsZQ%3D%3D?line=7'>8</a>\u001b[0m     y\u001b[39m.\u001b[39mappend(data\u001b[39m.\u001b[39;49miloc[i\u001b[39m+\u001b[39;49msequence_length][\u001b[39m'\u001b[39;49m\u001b[39mstart_walk\u001b[39;49m\u001b[39m'\u001b[39;49m])\n\u001b[1;32m      <a href='vscode-notebook-cell:/Users/JawanHaider/Documents/Projects/Collaborative/Dogar/flywasp-fd/notebooks/2.0-jh-initial-rnn-exploration.ipynb#X10sZmlsZQ%3D%3D?line=8'>9</a>\u001b[0m     \u001b[39m# We want y to be the \"target/output\" row/observation in our data,\u001b[39;00m\n\u001b[1;32m     <a href='vscode-notebook-cell:/Users/JawanHaider/Documents/Projects/Collaborative/Dogar/flywasp-fd/notebooks/2.0-jh-initial-rnn-exploration.ipynb#X10sZmlsZQ%3D%3D?line=9'>10</a>\u001b[0m     \u001b[39m# so it needs to NOT be overlapping with the rows appended to 'x' using iloc\u001b[39;00m\n\u001b[1;32m     <a href='vscode-notebook-cell:/Users/JawanHaider/Documents/Projects/Collaborative/Dogar/flywasp-fd/notebooks/2.0-jh-initial-rnn-exploration.ipynb#X10sZmlsZQ%3D%3D?line=10'>11</a>\u001b[0m     \u001b[39m# and needs to be the very NEXT row/observation.\u001b[39;00m\n\u001b[1;32m     <a href='vscode-notebook-cell:/Users/JawanHaider/Documents/Projects/Collaborative/Dogar/flywasp-fd/notebooks/2.0-jh-initial-rnn-exploration.ipynb#X10sZmlsZQ%3D%3D?line=11'>12</a>\u001b[0m \u001b[39mreturn\u001b[39;00m np\u001b[39m.\u001b[39marray(x), np\u001b[39m.\u001b[39marray(y)\n",
      "File \u001b[0;32m~/opt/anaconda3/envs/fd_flywasp/lib/python3.11/site-packages/pandas/core/series.py:1040\u001b[0m, in \u001b[0;36mSeries.__getitem__\u001b[0;34m(self, key)\u001b[0m\n\u001b[1;32m   1037\u001b[0m     \u001b[39mreturn\u001b[39;00m \u001b[39mself\u001b[39m\u001b[39m.\u001b[39m_values[key]\n\u001b[1;32m   1039\u001b[0m \u001b[39melif\u001b[39;00m key_is_scalar:\n\u001b[0;32m-> 1040\u001b[0m     \u001b[39mreturn\u001b[39;00m \u001b[39mself\u001b[39;49m\u001b[39m.\u001b[39;49m_get_value(key)\n\u001b[1;32m   1042\u001b[0m \u001b[39m# Convert generator to list before going through hashable part\u001b[39;00m\n\u001b[1;32m   1043\u001b[0m \u001b[39m# (We will iterate through the generator there to check for slices)\u001b[39;00m\n\u001b[1;32m   1044\u001b[0m \u001b[39mif\u001b[39;00m is_iterator(key):\n",
      "File \u001b[0;32m~/opt/anaconda3/envs/fd_flywasp/lib/python3.11/site-packages/pandas/core/series.py:1159\u001b[0m, in \u001b[0;36mSeries._get_value\u001b[0;34m(self, label, takeable)\u001b[0m\n\u001b[1;32m   1156\u001b[0m loc \u001b[39m=\u001b[39m \u001b[39mself\u001b[39m\u001b[39m.\u001b[39mindex\u001b[39m.\u001b[39mget_loc(label)\n\u001b[1;32m   1158\u001b[0m \u001b[39mif\u001b[39;00m is_integer(loc):\n\u001b[0;32m-> 1159\u001b[0m     \u001b[39mreturn\u001b[39;00m \u001b[39mself\u001b[39;49m\u001b[39m.\u001b[39;49m_values[loc]\n\u001b[1;32m   1161\u001b[0m \u001b[39mif\u001b[39;00m \u001b[39misinstance\u001b[39m(\u001b[39mself\u001b[39m\u001b[39m.\u001b[39mindex, MultiIndex):\n\u001b[1;32m   1162\u001b[0m     mi \u001b[39m=\u001b[39m \u001b[39mself\u001b[39m\u001b[39m.\u001b[39mindex\n",
      "File \u001b[0;32m~/opt/anaconda3/envs/fd_flywasp/lib/python3.11/site-packages/pandas/core/series.py:782\u001b[0m, in \u001b[0;36mSeries._values\u001b[0;34m(self)\u001b[0m\n\u001b[1;32m    750\u001b[0m \u001b[39m@property\u001b[39m\n\u001b[1;32m    751\u001b[0m \u001b[39mdef\u001b[39;00m \u001b[39m_values\u001b[39m(\u001b[39mself\u001b[39m):\n\u001b[1;32m    752\u001b[0m \u001b[39m    \u001b[39m\u001b[39m\"\"\"\u001b[39;00m\n\u001b[1;32m    753\u001b[0m \u001b[39m    Return the internal repr of this data (defined by Block.interval_values).\u001b[39;00m\n\u001b[1;32m    754\u001b[0m \u001b[39m    This are the values as stored in the Block (ndarray or ExtensionArray\u001b[39;00m\n\u001b[0;32m   (...)\u001b[0m\n\u001b[1;32m    780\u001b[0m \n\u001b[1;32m    781\u001b[0m \u001b[39m    \"\"\"\u001b[39;00m\n\u001b[0;32m--> 782\u001b[0m     \u001b[39mreturn\u001b[39;00m \u001b[39mself\u001b[39;49m\u001b[39m.\u001b[39;49m_mgr\u001b[39m.\u001b[39;49minternal_values()\n",
      "File \u001b[0;32m~/opt/anaconda3/envs/fd_flywasp/lib/python3.11/site-packages/pandas/core/internals/managers.py:1962\u001b[0m, in \u001b[0;36mSingleBlockManager.internal_values\u001b[0;34m(self)\u001b[0m\n\u001b[1;32m   1960\u001b[0m \u001b[39mdef\u001b[39;00m \u001b[39minternal_values\u001b[39m(\u001b[39mself\u001b[39m):\n\u001b[1;32m   1961\u001b[0m \u001b[39m    \u001b[39m\u001b[39m\"\"\"The array that Series._values returns\"\"\"\u001b[39;00m\n\u001b[0;32m-> 1962\u001b[0m     \u001b[39mreturn\u001b[39;00m \u001b[39mself\u001b[39;49m\u001b[39m.\u001b[39;49m_block\u001b[39m.\u001b[39mvalues\n",
      "File \u001b[0;32mproperties.pyx:36\u001b[0m, in \u001b[0;36mpandas._libs.properties.CachedProperty.__get__\u001b[0;34m()\u001b[0m\n",
      "File \u001b[0;32m~/opt/anaconda3/envs/fd_flywasp/lib/python3.11/site-packages/pandas/core/internals/managers.py:1902\u001b[0m, in \u001b[0;36mSingleBlockManager._block\u001b[0;34m(self)\u001b[0m\n\u001b[1;32m   1899\u001b[0m \u001b[39mdef\u001b[39;00m \u001b[39m_post_setstate\u001b[39m(\u001b[39mself\u001b[39m) \u001b[39m-\u001b[39m\u001b[39m>\u001b[39m \u001b[39mNone\u001b[39;00m:\n\u001b[1;32m   1900\u001b[0m     \u001b[39mpass\u001b[39;00m\n\u001b[0;32m-> 1902\u001b[0m \u001b[39m@cache_readonly\u001b[39m\n\u001b[1;32m   1903\u001b[0m \u001b[39mdef\u001b[39;00m \u001b[39m_block\u001b[39m(\u001b[39mself\u001b[39m) \u001b[39m-\u001b[39m\u001b[39m>\u001b[39m Block:\n\u001b[1;32m   1904\u001b[0m     \u001b[39mreturn\u001b[39;00m \u001b[39mself\u001b[39m\u001b[39m.\u001b[39mblocks[\u001b[39m0\u001b[39m]\n\u001b[1;32m   1906\u001b[0m \u001b[39m@property\u001b[39m\n\u001b[1;32m   1907\u001b[0m \u001b[39mdef\u001b[39;00m \u001b[39m_blknos\u001b[39m(\u001b[39mself\u001b[39m):\n",
      "\u001b[0;31mKeyboardInterrupt\u001b[0m: "
     ]
    }
   ],
   "source": [
    "\n",
    "X_train, Y_train = [], []\n",
    "X_test, Y_test = [], []\n",
    "files = df['file'].unique()\n",
    "\n",
    "for file in files:\n",
    "    file_data = df[df['file'] == file].drop(['Frame', 'file'], axis=1)\n",
    "\n",
    "    # Create sequences for each file\n",
    "    x, y = create_sequences(file_data)\n",
    "\n",
    "    # Calculate the split index\n",
    "    train_size = int(len(x) * 2/3)\n",
    "\n",
    "    # Split the sequences for each file\n",
    "    X_train.extend(x[:train_size])\n",
    "    Y_train.extend(y[:train_size])\n",
    "    X_test.extend(x[train_size:])\n",
    "    Y_test.extend(y[train_size:])\n",
    "\n",
    "X_train = np.array(X_train)\n",
    "Y_train = np.array(Y_train)\n",
    "X_test = np.array(X_test)\n",
    "Y_test = np.array(Y_test)\n",
    "\n",
    "print(X_train.shape, Y_train.shape)\n",
    "print(X_test.shape, Y_test.shape)\n"
   ]
  },
  {
   "cell_type": "code",
   "execution_count": null,
   "metadata": {},
   "outputs": [],
   "source": []
  },
  {
   "cell_type": "code",
   "execution_count": null,
   "metadata": {},
   "outputs": [],
   "source": []
  }
 ],
 "metadata": {
  "kernelspec": {
   "display_name": "fd_flywasp",
   "language": "python",
   "name": "python3"
  },
  "language_info": {
   "codemirror_mode": {
    "name": "ipython",
    "version": 3
   },
   "file_extension": ".py",
   "mimetype": "text/x-python",
   "name": "python",
   "nbconvert_exporter": "python",
   "pygments_lexer": "ipython3",
   "version": "3.11.0"
  }
 },
 "nbformat": 4,
 "nbformat_minor": 2
}
